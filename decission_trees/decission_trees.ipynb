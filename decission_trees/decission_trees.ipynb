{
 "cells": [
  {
   "cell_type": "code",
   "execution_count": 1,
   "metadata": {},
   "outputs": [],
   "source": [
    "import numpy as np\n",
    "import pandas as pd\n",
    "import random\n",
    "import monkdata as m\n",
    "import dtree as d\n",
    "from drawtree_qt5 import drawTree\n",
    "from IPython.display import Image\n",
    "from id3 import Id3Estimator, export_text"
   ]
  },
  {
   "cell_type": "code",
   "execution_count": 2,
   "metadata": {},
   "outputs": [],
   "source": [
    "def compute_entropy(datasets):\n",
    "    entropy_datasets_matrix = np.zeros((len(datasets), 1))\n",
    "    for idx_data, dataset in enumerate(datasets):\n",
    "        entropy_datasets_matrix[idx_data] = round(d.entropy(dataset),3)\n",
    "    return entropy_datasets_matrix"
   ]
  },
  {
   "cell_type": "code",
   "execution_count": 3,
   "metadata": {},
   "outputs": [],
   "source": [
    "def entropy_matrix(datasets, attribute_index, max_att_list):\n",
    "    entropy_matrix = np.zeros((len(datasets), len(m.attributes[attribute_index].values)))\n",
    "    for idx_data, dataset in enumerate(datasets):\n",
    "        att = m.attributes[max_att_list[idx_data]]\n",
    "        for idx_value, value in enumerate(att.values):\n",
    "            entropy_matrix[idx_data,idx_value] = d.entropy(d.select(dataset, att, value))\n",
    "    return entropy_matrix"
   ]
  },
  {
   "cell_type": "code",
   "execution_count": 4,
   "metadata": {},
   "outputs": [],
   "source": [
    "def first_level_split_by_attribute(dataset, attribute_idx):\n",
    "    attribute_values = m.attributes[attribute_idx].values\n",
    "    attribute_values_list = [[value_] for value_ in list(attribute_values)]\n",
    "    dataset_by_attribute = []\n",
    "    for value in attribute_values:\n",
    "        dataset_by_attribute.append(d.select(dataset, m.attributes[attribute_idx], value))\n",
    "    return dataset_by_attribute, attribute_values_list"
   ]
  },
  {
   "cell_type": "code",
   "execution_count": 5,
   "metadata": {},
   "outputs": [],
   "source": [
    "def second_level_split_by_attribute(attribute_values_list,\n",
    "                                    maximum_information_gain_matrix, first_split_datasets,\n",
    "                                    max_att_list):\n",
    "\n",
    "    flat_values_list = [item for sublist in attribute_values_list for item in sublist]\n",
    "    max_inf_gain_att_list = maximum_information_gain_matrix.transpose()[0]\n",
    "    secon_level_split_dict = dict()\n",
    "\n",
    "    for max_inf_gain_att, flat_value_list, first_split_dataset,max_att in zip(\n",
    "        max_inf_gain_att_list, flat_values_list, first_split_datasets, max_att_list\n",
    "    ):\n",
    "        if max_inf_gain_att == 'NA':\n",
    "            secon_level_split_dict[flat_value_list] = [[first_split_dataset], []]\n",
    "            continue\n",
    "        secon_level_split_dict[flat_value_list] = first_level_split_by_attribute(first_split_dataset, max_att)\n",
    "    return secon_level_split_dict"
   ]
  },
  {
   "cell_type": "code",
   "execution_count": 6,
   "metadata": {},
   "outputs": [],
   "source": [
    "def information_gain(datasets):\n",
    "    information_gain_matrix = np.zeros((len(datasets), len(m.attributes)))\n",
    "    for idx, dataset in enumerate(datasets):\n",
    "        for i in range(len(m.attributes)):\n",
    "            average_gain = round(d.averageGain(dataset, m.attributes[i]),4)\n",
    "            information_gain_matrix[idx, i] = average_gain\n",
    "    return information_gain_matrix"
   ]
  },
  {
   "cell_type": "code",
   "execution_count": 7,
   "metadata": {},
   "outputs": [],
   "source": [
    "def maximum_information_gain(datasets):\n",
    "    information_gain_matrix = information_gain(datasets)\n",
    "    maximum_information_gain_matrix = np.zeros((len(datasets),2),dtype=object)\n",
    "    max_att_list = []\n",
    "    for i in range(len(datasets)):\n",
    "        inf_gain_maximum = max(information_gain_matrix[i])\n",
    "        if inf_gain_maximum == 0.0:\n",
    "            e = 'NA','NA'\n",
    "            max_att_list.append(0)\n",
    "        if inf_gain_maximum != 0:\n",
    "            x, = np.where(information_gain_matrix[i] == inf_gain_maximum)\n",
    "            e = m.attributes[int(x)], inf_gain_maximum\n",
    "            max_att_list.append(int(x))\n",
    "        maximum_information_gain_matrix[i] = e\n",
    "    return maximum_information_gain_matrix, max_att_list"
   ]
  },
  {
   "cell_type": "code",
   "execution_count": 8,
   "metadata": {},
   "outputs": [],
   "source": [
    "def second_level_most_common(secon_level_split_dict):\n",
    "    most_common_dict = dict()\n",
    "    for key, values in secon_level_split_dict.items():\n",
    "        dataset_list, attribute_value_list = values\n",
    "        attribute_value_list = [item for sublist in attribute_value_list for item in sublist]\n",
    "        label_dict = dict()\n",
    "        if len(dataset_list) == 1:\n",
    "            most_common_dict[key] = d.mostCommon(dataset_list[0])\n",
    "            continue\n",
    "        for dataset, attribute_value in zip(dataset_list, attribute_value_list):\n",
    "            label_dict[attribute_value] = d.mostCommon(dataset)\n",
    "        most_common_dict[key] = label_dict\n",
    "    return most_common_dict"
   ]
  },
  {
   "cell_type": "code",
   "execution_count": 9,
   "metadata": {},
   "outputs": [],
   "source": [
    "def perform_buildTree(datasets):\n",
    "    datasets_trees = []\n",
    "    for dataset in datasets:\n",
    "        datasets_trees.append(d.buildTree(dataset, m.attributes))\n",
    "    return datasets_trees"
   ]
  },
  {
   "cell_type": "code",
   "execution_count": 10,
   "metadata": {},
   "outputs": [],
   "source": [
    "def check_correct_incorrect_classification(datasets, test_datasets, datasets_names):\n",
    "    datasets_trees = perform_buildTree(datasets)\n",
    "    check = {}\n",
    "    check_e = np.zeros((len(datasets), 2))\n",
    "    for i, dataset, dataset_name, dataset_tree, test_dataset in zip(range(len(datasets)),datasets, datasets_names, datasets_trees, test_datasets):   \n",
    "        correct_classification = round(d.check(dataset_tree, test_dataset),3)\n",
    "        check[dataset_name] = correct_classification\n",
    "        err = round(1 - d.check(dataset_tree, dataset),3), round((1 - correct_classification),3)\n",
    "        check_e[i] = err\n",
    "    return check, check_e"
   ]
  },
  {
   "cell_type": "code",
   "execution_count": 11,
   "metadata": {},
   "outputs": [],
   "source": [
    "def partition(data, fraction):\n",
    "    ldata = list(data)\n",
    "    random.shuffle(ldata)\n",
    "    breakPoint = int(len(ldata) * fraction)\n",
    "    return ldata[:breakPoint], ldata[breakPoint:]"
   ]
  },
  {
   "cell_type": "code",
   "execution_count": 12,
   "metadata": {},
   "outputs": [],
   "source": [
    "def max_pruning(dataset, percentage):\n",
    "    part_dict_by_fract = dict()\n",
    "    \n",
    "    key_name = 'partition_'+str(percentage)\n",
    "    part_dict_by_fract[key_name] = partition(dataset, percentage)\n",
    "    trainnig_data, validation_data = part_dict_by_fract[key_name]\n",
    "    \n",
    "    trainnig_tree = d.buildTree(trainnig_data, m.attributes)\n",
    "    precision_trainning_tree = round(d.check(trainnig_tree, validation_data),3)\n",
    "    error_trainning_tree = round(1 - precision_trainning_tree,3)\n",
    "\n",
    "    candidate_tree = trainnig_tree\n",
    "    candidate_precision = precision_trainning_tree\n",
    "    candidate_error = error_trainning_tree\n",
    "\n",
    "    trainning_prunned_tree_list = d.allPruned(trainnig_tree)\n",
    "    for tree in trainning_prunned_tree_list:  \n",
    "\n",
    "        precision_prunned_trainning_tree = round(d.check(tree, validation_data),3)\n",
    "        error_prunned_trainning_tree = round(1 - precision_prunned_trainning_tree, 3)\n",
    "\n",
    "        if precision_prunned_trainning_tree >= candidate_precision:\n",
    "            candidate_precision = precision_prunned_trainning_tree\n",
    "            candidate_tree = tree\n",
    "            candidate_error = error_prunned_trainning_tree\n",
    "    return (\n",
    "        trainnig_tree, precision_trainning_tree, error_trainning_tree,\n",
    "        candidate_tree, candidate_precision, candidate_error\n",
    "    )"
   ]
  },
  {
   "cell_type": "code",
   "execution_count": 13,
   "metadata": {},
   "outputs": [],
   "source": [
    "def max_pruning_iterator(dataset, fraction_list, number_of_iteration=20):\n",
    "    \n",
    "    pruned_data_by_fract = dict()\n",
    "    \n",
    "    for percentage in fractions_list:\n",
    "        random_split_results_list = []\n",
    "        for _ in range(number_of_iteration):\n",
    "            random_split_results_list.append(list(max_pruning(dataset, percentage)))\n",
    "            # pruned_data_by_fract[key_name] = max_pruning(dataset, percentage)\n",
    "        key_name = 'partition_'+str(percentage)    \n",
    "        pruned_data_by_fract[key_name] = random_split_results_list\n",
    "    return pruned_data_by_fract\n"
   ]
  },
  {
   "cell_type": "markdown",
   "metadata": {},
   "source": [
    "Assignment 0:\n",
    "======================\n"
   ]
  },
  {
   "cell_type": "markdown",
   "metadata": {},
   "source": [
    ">Each one of the datasets has properties which makes\n",
    "them hard to learn. Motivate which of the three problems is most\n",
    "di\u000ecult for a decision tree algorithm to learn."
   ]
  },
  {
   "cell_type": "markdown",
   "metadata": {},
   "source": [
    "## Entropy:"
   ]
  },
  {
   "cell_type": "markdown",
   "metadata": {},
   "source": [
    "## Assignment 1:"
   ]
  },
  {
   "cell_type": "markdown",
   "metadata": {},
   "source": [
    "> The file `dtree.py` defines a function entropy which\n",
    "calculates the entropy of a dataset. Import this file along with the\n",
    "monks datasets and use it to calculate the entropy of the training\n",
    "datasets."
   ]
  },
  {
   "cell_type": "markdown",
   "metadata": {},
   "source": [
    "1. Entropy of each dataset:"
   ]
  },
  {
   "cell_type": "code",
   "execution_count": 14,
   "metadata": {},
   "outputs": [],
   "source": [
    "datasets_names = ['MONK-1', 'MONK-2', 'MONK-3']\n",
    "test_datasets_names = ['monk1test', 'monk2test', 'monk3test']\n",
    "datasets = [m.monk1, m.monk2, m.monk3]\n",
    "test_datasets = [m.monk1test, m.monk2test, m.monk3test]"
   ]
  },
  {
   "cell_type": "code",
   "execution_count": 15,
   "metadata": {
    "scrolled": true
   },
   "outputs": [
    {
     "name": "stdout",
     "output_type": "stream",
     "text": [
      "[['MONK-1' '1.0']\n",
      " ['MONK-2' '0.957']\n",
      " ['MONK-3' '1.0']]\n"
     ]
    }
   ],
   "source": [
    "print(np.hstack(([[i] for i in list(datasets_names)], compute_entropy(datasets))))"
   ]
  },
  {
   "cell_type": "markdown",
   "metadata": {},
   "source": [
    "## Assignment 2:"
   ]
  },
  {
   "cell_type": "markdown",
   "metadata": {},
   "source": [
    "> Explain entropy for a uniform distribution and a\n",
    "non-uniform distribution, present some example distributions with\n",
    "high and low entropy."
   ]
  },
  {
   "cell_type": "markdown",
   "metadata": {},
   "source": [
    "## Information Gain:"
   ]
  },
  {
   "cell_type": "markdown",
   "metadata": {},
   "source": [
    "## Assignment 3:"
   ]
  },
  {
   "cell_type": "markdown",
   "metadata": {},
   "source": [
    "> Use the function averageGain (defined in `dtree.py`)\n",
    "to calculate the expected information gain corresponding to each of\n",
    "the six attributes. Note that the attributes are represented as in-\n",
    "stances of the class Attribute (defined in monkdata.py) which you\n",
    "can access via `m.attributes[0]`, ..., `m.attributes[5]`. Based on\n",
    "the results, which attribute should be used for splitting the examples\n",
    "at the root node?"
   ]
  },
  {
   "cell_type": "markdown",
   "metadata": {},
   "source": [
    "1. Information gain for each dataset $S$ by attribute $A \\subset (A1, A2, A3, A4, A5, A6)$"
   ]
  },
  {
   "cell_type": "code",
   "execution_count": 16,
   "metadata": {
    "scrolled": true
   },
   "outputs": [
    {
     "name": "stdout",
     "output_type": "stream",
     "text": [
      "[[0.0753 0.0058 0.0047 0.0263 0.287  0.0008]\n",
      " [0.0038 0.0025 0.0011 0.0157 0.0173 0.0062]\n",
      " [0.0071 0.2937 0.0008 0.0029 0.2559 0.0071]]\n"
     ]
    }
   ],
   "source": [
    "#pd.DataFrame(information_gain(datasets), index=datasets_names, columns=attributes_names)\n",
    "print(information_gain(datasets))"
   ]
  },
  {
   "cell_type": "markdown",
   "metadata": {},
   "source": [
    "## Assignment 4:"
   ]
  },
  {
   "cell_type": "markdown",
   "metadata": {},
   "source": [
    "> For splitting we choose the attribute that maximizes\n",
    "the information gain, Eq.3. Looking at Eq.3 how does the entropy of\n",
    "the subsets, Sk, look like when the information gain is maximized?\n",
    "How can we motivate using the information gain as a heuristic for\n",
    "picking an attribute for splitting? Think about reduction in entropy\n",
    "after the split and what the entropy implies."
   ]
  },
  {
   "cell_type": "markdown",
   "metadata": {},
   "source": [
    "Ask about the attribute which maximizes the expected\n",
    "reduction of the entropy."
   ]
  },
  {
   "cell_type": "markdown",
   "metadata": {},
   "source": [
    "1. We choose the attribute that maximizes the information gain, from where we will split at the root node:"
   ]
  },
  {
   "cell_type": "code",
   "execution_count": 17,
   "metadata": {},
   "outputs": [
    {
     "name": "stdout",
     "output_type": "stream",
     "text": [
      "[['MONK-1' A5 0.287]\n",
      " ['MONK-2' A5 0.0173]\n",
      " ['MONK-3' A2 0.2937]]\n"
     ]
    }
   ],
   "source": [
    "ds_maximum_information_gain, max_att = maximum_information_gain(datasets)\n",
    "print(np.hstack(([[i] for i in list(datasets_names)], ds_maximum_information_gain)))"
   ]
  },
  {
   "cell_type": "markdown",
   "metadata": {},
   "source": [
    "2. The entropy of the subsets $S_{k(i)}$ for each possible attribute $k$ value $i$."
   ]
  },
  {
   "cell_type": "code",
   "execution_count": 18,
   "metadata": {
    "scrolled": false
   },
   "outputs": [
    {
     "data": {
      "text/plain": [
       "array([[0.        , 0.93831535, 0.94807824, 0.90817835],\n",
       "       [0.91034806, 1.        , 0.96333555, 0.877962  ],\n",
       "       [0.91829583, 0.8296071 , 0.37764632, 0.        ]])"
      ]
     },
     "execution_count": 18,
     "metadata": {},
     "output_type": "execute_result"
    }
   ],
   "source": [
    "data_entropy_matrix_by_max_att_nd_value = entropy_matrix(datasets, 4, max_att)\n",
    "data_entropy_matrix_by_max_att_nd_value"
   ]
  },
  {
   "cell_type": "markdown",
   "metadata": {},
   "source": [
    "3. Information gain "
   ]
  },
  {
   "cell_type": "code",
   "execution_count": 19,
   "metadata": {},
   "outputs": [
    {
     "data": {
      "text/plain": [
       "array([[ 1.        ,  0.06168465,  0.05192176,  0.09182165],\n",
       "       [ 0.04665194, -0.043     , -0.00633555,  0.079038  ],\n",
       "       [ 0.08170417,  0.1703929 ,  0.62235368,  1.        ]])"
      ]
     },
     "execution_count": 19,
     "metadata": {},
     "output_type": "execute_result"
    }
   ],
   "source": [
    "(compute_entropy(datasets) * np.array([[1,1,1,1]])) - data_entropy_matrix_by_max_att_nd_value"
   ]
  },
  {
   "cell_type": "markdown",
   "metadata": {},
   "source": [
    "## 5. Building Decission Trees:"
   ]
  },
  {
   "cell_type": "markdown",
   "metadata": {},
   "source": [
    "> Split dataset `monk1` according to the selected attribute using\n",
    "the function `select` (again, defined in dtree.py)"
   ]
  },
  {
   "cell_type": "markdown",
   "metadata": {},
   "source": [
    "### First Level Split : MONK1"
   ]
  },
  {
   "cell_type": "code",
   "execution_count": 20,
   "metadata": {
    "scrolled": true
   },
   "outputs": [],
   "source": [
    "split_monk1, monk1_values = first_level_split_by_attribute(m.monk1, 4)\n",
    "maximum_information_gain_monk1_a5, max_att_monk1_a5 = maximum_information_gain(split_monk1)"
   ]
  },
  {
   "cell_type": "markdown",
   "metadata": {},
   "source": [
    "> Compute the information gains for the nodes on the next level of the tree. Which attributes\n",
    "should be tested for these nodes?"
   ]
  },
  {
   "cell_type": "code",
   "execution_count": 21,
   "metadata": {
    "scrolled": true
   },
   "outputs": [
    {
     "name": "stdout",
     "output_type": "stream",
     "text": [
      "[[0.     0.     0.     0.     0.     0.    ]\n",
      " [0.0402 0.0151 0.0373 0.0489 0.     0.0258]\n",
      " [0.0331 0.0022 0.018  0.0191 0.     0.0451]\n",
      " [0.2063 0.0339 0.0259 0.0759 0.     0.0033]]\n",
      "   \n",
      "[[1 'NA' 'NA']\n",
      " [2 A4 0.0489]\n",
      " [3 A6 0.0451]\n",
      " [4 A1 0.2063]]\n"
     ]
    }
   ],
   "source": [
    "print(information_gain(split_monk1))\n",
    "print('   ')\n",
    "print(np.hstack((monk1_values, maximum_information_gain_monk1_a5)))"
   ]
  },
  {
   "cell_type": "markdown",
   "metadata": {},
   "source": [
    "> For the monk1 data draw the decision tree up to the **first two levels** and\n",
    "assign the majority class of the subsets that resulted from the two splits\n",
    "to the leaf nodes."
   ]
  },
  {
   "cell_type": "markdown",
   "metadata": {},
   "source": [
    "### Second Level Split : MONK1"
   ]
  },
  {
   "cell_type": "code",
   "execution_count": 22,
   "metadata": {},
   "outputs": [],
   "source": [
    "second_level_split_monk1 = second_level_split_by_attribute(\n",
    "    monk1_values, maximum_information_gain_monk1_a5, split_monk1, max_att_monk1_a5\n",
    "    )\n",
    "second_level_most_common_monk1 = second_level_most_common(second_level_split_monk1)"
   ]
  },
  {
   "cell_type": "markdown",
   "metadata": {},
   "source": [
    "### Most Common Second Level Split : MONK1"
   ]
  },
  {
   "cell_type": "code",
   "execution_count": 23,
   "metadata": {
    "scrolled": true
   },
   "outputs": [
    {
     "data": {
      "text/plain": [
       "{1: True,\n",
       " 2: {1: False, 2: False, 3: False},\n",
       " 3: {1: False, 2: False},\n",
       " 4: {1: False, 2: False, 3: True}}"
      ]
     },
     "execution_count": 23,
     "metadata": {},
     "output_type": "execute_result"
    }
   ],
   "source": [
    "second_level_most_common_monk1"
   ]
  },
  {
   "cell_type": "markdown",
   "metadata": {},
   "source": [
    "### Compare  results with a predefined routine for algorithm ID3."
   ]
  },
  {
   "cell_type": "code",
   "execution_count": 24,
   "metadata": {},
   "outputs": [],
   "source": [
    "x = np.array([[sample.attribute[attr] for attr in m.attributes] for sample in m.monk1])\n",
    "y = np.array([str(sample.positive) for sample in m.monk1])\n",
    "feature_names_ = [\"A1\",\"A2\",\"A3\",\"A4\",\"A5\",\"A6\"]"
   ]
  },
  {
   "cell_type": "code",
   "execution_count": 25,
   "metadata": {},
   "outputs": [
    {
     "name": "stdout",
     "output_type": "stream",
     "text": [
      "\n",
      "A5 1: True (29) \n",
      "A5 2\n",
      "|   A4 1: False (6/5) \n",
      "|   A4 2: False (6/1) \n",
      "|   A4 3: False (8/5) \n",
      "A5 3\n",
      "|   A6 1: False (10/3) \n",
      "|   A6 2: False (9/8) \n",
      "A5 4\n",
      "|   A1 1: False (13/1) \n",
      "|   A1 2: False (7/4) \n",
      "|   A1 3: True (6/3) \n",
      "\n"
     ]
    }
   ],
   "source": [
    "estimator_t = Id3Estimator(max_depth=2)\n",
    "estimator_t.fit(x, y, check_input=False)\n",
    "print(export_text(estimator_t.tree_, feature_names_))"
   ]
  },
  {
   "cell_type": "markdown",
   "metadata": {},
   "source": [
    "> Use the function buildTree(data, m.attributes) to build the decision tree."
   ]
  },
  {
   "cell_type": "code",
   "execution_count": 26,
   "metadata": {},
   "outputs": [],
   "source": [
    "monk1_tree = d.buildTree(m.monk1, m.attributes, 2)\n",
    "monk1_tree_full = d.buildTree(m.monk1,m.attributes)"
   ]
  },
  {
   "cell_type": "code",
   "execution_count": 27,
   "metadata": {},
   "outputs": [
    {
     "name": "stdout",
     "output_type": "stream",
     "text": [
      "A5(+A4(---)A6(--)A1(--+))\n"
     ]
    },
    {
     "data": {
      "image/png": "[encoded data removed]",
      "text/plain": [
       "<IPython.core.display.Image object>"
      ]
     },
     "execution_count": 27,
     "metadata": {},
     "output_type": "execute_result"
    }
   ],
   "source": [
    "print(monk1_tree)\n",
    "#drawTree(monk1_tree_full)\n",
    "Image(\"monk1_tree_depth2.png\")"
   ]
  },
  {
   "cell_type": "markdown",
   "metadata": {},
   "source": [
    "## Assignment 5:"
   ]
  },
  {
   "cell_type": "markdown",
   "metadata": {},
   "source": [
    "> Build the full decision trees for all three Monk\n",
    "datasets using buildTree. Then, use the function check to mea-\n",
    "sure the performance of the decision tree on both the training and\n",
    "test datasets.\n",
    "For example to built a tree for monk1 and compute the performance\n",
    "on the test data you could use\n",
    "\n",
    ">`import monkdata as m` <br>\n",
    ">`import dtree as d`<br>\n",
    ">`t=d.buildTree(m.monk1, m.attributes);`<br>\n",
    ">`print(d.check(t, m.monk1test))`<br>\n",
    "\n",
    ">Compute the train and test set errors for the three Monk datasets\n",
    "for the full trees. Were your assumptions about the datasets correct?\n",
    "Explain the results you get for the training and test datasets."
   ]
  },
  {
   "cell_type": "code",
   "execution_count": 28,
   "metadata": {},
   "outputs": [],
   "source": [
    "correct_class, incorrect_class = check_correct_incorrect_classification(datasets, test_datasets, datasets_names)"
   ]
  },
  {
   "cell_type": "code",
   "execution_count": 29,
   "metadata": {},
   "outputs": [
    {
     "data": {
      "text/plain": [
       "{'MONK-1': 0.829, 'MONK-2': 0.692, 'MONK-3': 0.944}"
      ]
     },
     "execution_count": 29,
     "metadata": {},
     "output_type": "execute_result"
    }
   ],
   "source": [
    "correct_class"
   ]
  },
  {
   "cell_type": "code",
   "execution_count": 30,
   "metadata": {},
   "outputs": [
    {
     "name": "stdout",
     "output_type": "stream",
     "text": [
      "[['MONK-1' '0.0' '0.171']\n",
      " ['MONK-2' '0.0' '0.308']\n",
      " ['MONK-3' '0.0' '0.056']]\n"
     ]
    }
   ],
   "source": [
    "print(np.hstack(([[i] for i in list(datasets_names)], incorrect_class)))"
   ]
  },
  {
   "cell_type": "markdown",
   "metadata": {},
   "source": [
    "## Assignment 6:"
   ]
  },
  {
   "cell_type": "markdown",
   "metadata": {},
   "source": [
    ">Explain pruning from a bias variance trade-off perspective."
   ]
  },
  {
   "cell_type": "markdown",
   "metadata": {},
   "source": [
    "Randomly partition the original training set into **training** and **validation** set. according to each fraction:"
   ]
  },
  {
   "cell_type": "code",
   "execution_count": 31,
   "metadata": {},
   "outputs": [],
   "source": [
    "fractions_list = (0.3, 0.4, 0.5, 0.6, 0.7, 0.8)\n",
    "d = max_pruning_iterator(m.monk1, fractions_list)"
   ]
  },
  {
   "cell_type": "code",
   "execution_count": 32,
   "metadata": {
    "collapsed": true
   },
   "outputs": [
    {
     "data": {
      "text/plain": [
       "{'partition_0.3': [[A5(+A4(--A2(+-A1(-++)))A2(A1(+--)A1(-+-)-)A1(-A2(-+-)+)),\n",
       "   0.805,\n",
       "   0.195,\n",
       "   A5(+-A2(A1(+--)A1(-+-)-)A1(-A2(-+-)+)),\n",
       "   0.828,\n",
       "   0.172],\n",
       "  [A5(+A4(A1(-+A2(--+))-A3(+-))A2(A1(+--)+-)A2(A1(+--)A1(-+-)A1(+-+))),\n",
       "   0.701,\n",
       "   0.299,\n",
       "   A5(+A4(A1(-+A2(--+))-A3(+-))A2(A1(+--)+-)-),\n",
       "   0.713,\n",
       "   0.287],\n",
       "  [A5(+A2(-A1(-++)A1(--+))A2(A1(+--)+-)A1(-++)),\n",
       "   0.713,\n",
       "   0.287,\n",
       "   A5(+A2(-A1(-++)A1(--+))A2(A1(+--)+-)-),\n",
       "   0.747,\n",
       "   0.253],\n",
       "  [A5(+A1(A2(+--)-+)A3(+-)A1(-A2(-++)A2(+-+))),\n",
       "   0.713,\n",
       "   0.287,\n",
       "   A5(+A1(A2(+--)-+)-A1(-A2(-++)A2(+-+))),\n",
       "   0.77,\n",
       "   0.23],\n",
       "  [A5(+A1(A2(+--)+A2(--+))A1(A2(+--)--)A2(A1(+--)A1(++-)A1(--+))),\n",
       "   0.816,\n",
       "   0.184,\n",
       "   A5(+A1(A2(+--)+A2(--+))A1(A2(+--)--)A2(-A1(++-)A1(--+))),\n",
       "   0.816,\n",
       "   0.184],\n",
       "  [A5(+A4(+A1(-+-)A1(--+))A4(A1(A2(+--)--)+A1(-+-))A1(A2(+--)A2(-+-)+)),\n",
       "   0.644,\n",
       "   0.356,\n",
       "   A5(+-A4(A1(A2(+--)--)+A1(-+-))A1(A2(+--)A2(-+-)+)),\n",
       "   0.736,\n",
       "   0.264],\n",
       "  [A5(+A1(A2(+--)-A2(--+))A6(A4(A3(+-)--)+)A1(-A2(-+-)+)),\n",
       "   0.77,\n",
       "   0.23,\n",
       "   A5(+A1(A2(+--)-A2(--+))-A1(-A2(-+-)+)),\n",
       "   0.839,\n",
       "   0.161],\n",
       "  [A5(+A2(A1(+--)A1(-+-)-)A3(A4(+--)-)A1(-A2(-+-)A2(+-+))),\n",
       "   0.816,\n",
       "   0.184,\n",
       "   A5(+A2(A1(+--)A1(-+-)-)A3(--)A1(-A2(-+-)A2(+-+))),\n",
       "   0.839,\n",
       "   0.161],\n",
       "  [A5(+A2(-A1(-+-)A1(--+))A4(A1(--+)-+)A1(-+-)),\n",
       "   0.655,\n",
       "   0.345,\n",
       "   A5(+A2(-A1(-+-)A1(--+))A4(A1(--+)-+)-),\n",
       "   0.713,\n",
       "   0.287],\n",
       "  [A5(+A4(A1(A2(+--)++)-A1(--A2(--+)))A1(A2(+-+)-A2(-++))A1(A2(+--)A2(-+-)+)),\n",
       "   0.828,\n",
       "   0.172,\n",
       "   A5(+A4(A1(A2(+--)++)-A1(--A2(--+)))A1(A2(+-+)-A2(-++))A1(-A2(-+-)+)),\n",
       "   0.828,\n",
       "   0.172],\n",
       "  [A5(+A4(A1(++A2(--+))--)A6(-+)A1(--A2(+-+))),\n",
       "   0.678,\n",
       "   0.322,\n",
       "   A5(+-A6(-+)A1(--A2(+-+))),\n",
       "   0.736,\n",
       "   0.264],\n",
       "  [A5(+A1(-A2(-++)A2(--+))A1(A2(+--)--)A1(--+)),\n",
       "   0.782,\n",
       "   0.218,\n",
       "   A5(+A1(-A2(-++)A2(--+))A1(A2(+--)--)A1(--+)),\n",
       "   0.782,\n",
       "   0.218],\n",
       "  [A5(+A2(A1(+--)A1(-+-)A1(-++))-A1(--+)),\n",
       "   0.77,\n",
       "   0.23,\n",
       "   A5(+A2(A1(+--)A1(-+-)A1(-++))-A1(--+)),\n",
       "   0.77,\n",
       "   0.23],\n",
       "  [A5(+A2(A1(+--)A1(-+-)+)A1(A2(+-+)A2(-+-)+)A1(--A2(+-+))),\n",
       "   0.816,\n",
       "   0.184,\n",
       "   A5(+A2(A1(+--)A1(-+-)+)A1(A2(+-+)A2(-+-)+)A1(--A2(+-+))),\n",
       "   0.816,\n",
       "   0.184],\n",
       "  [A5(+A2(A1(+--)A1(-+-)-)A4(A1(+--)+A3(+-))A4(+-A1(-A2(-+-)-))),\n",
       "   0.69,\n",
       "   0.31,\n",
       "   A5(+A2(A1(+--)A1(-+-)-)-A4(+-A1(-A2(-+-)-))),\n",
       "   0.77,\n",
       "   0.23],\n",
       "  [A5(+A4(A3(+A2(A1(+--)--))--)A1(A2(+--)--)A1(-A2(-+-)+)),\n",
       "   0.782,\n",
       "   0.218,\n",
       "   A5(+A4(A3(+A2(A1(+--)--))--)A1(A2(+--)--)A1(-A2(-+-)+)),\n",
       "   0.782,\n",
       "   0.218],\n",
       "  [A5(+A2(A1(+--)A1(-+-)+)A1(A2(+--)A2(-++)+)A1(-++)),\n",
       "   0.724,\n",
       "   0.276,\n",
       "   A5(+A2(A1(+--)A1(-+-)+)A1(A2(+--)A2(-++)+)-),\n",
       "   0.759,\n",
       "   0.241],\n",
       "  [A5(+A4(A1(A2(+--)A2(-+-)-)-A3(A1(A2(+--)++)-))A1(A2(+--)++)A2(+-A1(--+))),\n",
       "   0.713,\n",
       "   0.287,\n",
       "   A5(+A4(A1(A2(+--)A2(-+-)-)-A3(A1(A2(+--)++)-))A1(A2(+--)++)-),\n",
       "   0.736,\n",
       "   0.264],\n",
       "  [A5(+A1(-+A2(--+))A6(-A2(++A1(--+)))A1(-A2(-++)A2(--+))),\n",
       "   0.793,\n",
       "   0.207,\n",
       "   A5(+A1(-+A2(--+))-A1(-A2(-++)A2(--+))),\n",
       "   0.828,\n",
       "   0.172],\n",
       "  [A5(+A1(--A2(--+))A1(A2(+--)-+)A1(--A2(+-+))),\n",
       "   0.793,\n",
       "   0.207,\n",
       "   A5(+A1(--A2(--+))A1(A2(+--)-+)A1(--A2(+-+))),\n",
       "   0.793,\n",
       "   0.207]],\n",
       " 'partition_0.4': [[A5(+A4(A2(A1(+--)--)-A6(+A1(--A2(-++))))A3(A2(A1(+--)A1(-++)+)A1(--+))A1(-A2(-+-)+)),\n",
       "   0.747,\n",
       "   0.253,\n",
       "   A5(+-A3(A2(A1(+--)A1(-++)+)A1(--+))A1(-A2(-+-)+)),\n",
       "   0.773,\n",
       "   0.227],\n",
       "  [A5(+A3(A2(++-)A2(--+))A6(A1(A2(+--)--)A3(+A4(+--)))A3(-A4(+A2(A1(+--)--)A1(-+A2(--+))))),\n",
       "   0.64,\n",
       "   0.36,\n",
       "   A5(+-A6(A1(A2(+--)--)A3(+A4(+--)))A3(-A4(+A2(A1(+--)--)A1(-+A2(--+))))),\n",
       "   0.733,\n",
       "   0.267],\n",
       "  [A5(+A2(A1(+--)+A1(-++))A6(-A1(-++))A1(-A2(++-)A2(+-+))),\n",
       "   0.693,\n",
       "   0.307,\n",
       "   A5(+A2(A1(+--)+A1(-++))-A1(-A2(++-)A2(+-+))),\n",
       "   0.733,\n",
       "   0.267],\n",
       "  [A5(+A4(A1(A2(+--)A2(-+-)+)A1(-+-)A1(--A2(--+)))A3(A2(+A1(-++)-)A4(--+))A1(A2(+--)A2(-+-)A2(+-+))),\n",
       "   0.8,\n",
       "   0.2,\n",
       "   A5(+A4(A1(A2(+--)A2(-+-)+)A1(-+-)A1(--A2(--+)))-A1(A2(+--)A2(-+-)A2(+-+))),\n",
       "   0.867,\n",
       "   0.133],\n",
       "  [A5(+A4(A1(A2(+--)++)-A1(--A2(--+)))A1(A2(+--)A2(-+-)+)A1(-A2(-+-)A2(+-+))),\n",
       "   0.893,\n",
       "   0.107,\n",
       "   A5(+A4(A1(A2(+--)++)-A1(--A2(--+)))A1(A2(+--)A2(-+-)+)A1(-A2(-+-)A2(+-+))),\n",
       "   0.893,\n",
       "   0.107],\n",
       "  [A5(+A2(--A1(--+))A1(A2(+--)A2(-+-)+)A1(-A2(-++)A2(+-+))),\n",
       "   0.853,\n",
       "   0.147,\n",
       "   A5(+A2(--A1(--+))A1(A2(+--)A2(-+-)+)A1(-A2(-++)A2(+-+))),\n",
       "   0.853,\n",
       "   0.147],\n",
       "  [A5(+A1(A2(+--)A2(++-)A2(--+))A1(A2(+--)A2(-+-)A2(--+))A1(--+)),\n",
       "   0.853,\n",
       "   0.147,\n",
       "   A5(+A1(A2(+--)+A2(--+))A1(A2(+--)A2(-+-)A2(--+))A1(--+)),\n",
       "   0.853,\n",
       "   0.147],\n",
       "  [A5(+A6(A1(A2(+--)++)A4(--A2(--+)))A1(A2(++-)-A2(--+))A4(+-A1(-A2(-++)-))),\n",
       "   0.667,\n",
       "   0.333,\n",
       "   A5(+A6(A1(A2(+--)++)A4(--A2(--+)))A1(A2(++-)-A2(--+))-),\n",
       "   0.707,\n",
       "   0.293],\n",
       "  [A5(+A1(A2(+--)+A2(--+))A1(A2(+--)A2(-+-)A2(+-+))A2(A1(+--)-A1(--+))),\n",
       "   0.88,\n",
       "   0.12,\n",
       "   A5(+A1(A2(+--)+A2(--+))A1(A2(+--)A2(-+-)A2(+-+))A2(--A1(--+))),\n",
       "   0.88,\n",
       "   0.12],\n",
       "  [A5(+A4(+-A1(A2(+--)-A2(-++)))A1(A2(+--)A2(-+-)+)A4(A1(--+)-A1(-++))),\n",
       "   0.733,\n",
       "   0.267,\n",
       "   A5(+-A1(A2(+--)A2(-+-)+)A4(A1(--+)-A1(-++))),\n",
       "   0.787,\n",
       "   0.213],\n",
       "  [A5(+A1(--A2(--+))A6(-A3(A1(+A2(-+-)+)A1(--A2(--+))))A1(-A2(-++)+)),\n",
       "   0.773,\n",
       "   0.227,\n",
       "   A5(+A1(--A2(--+))A6(-A3(+A1(--A2(--+))))A1(-A2(-++)+)),\n",
       "   0.773,\n",
       "   0.227],\n",
       "  [A5(+A2(A1(+-+)A1(-+-)A1(-++))A1(-A2(-+-)A2(+-+))A6(A4(+A1(A2(+--)--)-)A1(--A2(--+)))),\n",
       "   0.8,\n",
       "   0.2,\n",
       "   A5(+A2(A1(+-+)A1(-+-)A1(-++))A1(-A2(-+-)A2(+-+))A6(-A1(--A2(--+)))),\n",
       "   0.813,\n",
       "   0.187],\n",
       "  [A5(+A3(A4(A1(-+-)-A1(++-))-)A2(A1(+--)A1(-+-)A1(--+))A1(A2(+--)A2(-+-)+)),\n",
       "   0.84,\n",
       "   0.16,\n",
       "   A5(+A3(A4(A1(-+-)-+)-)A2(A1(+--)A1(-+-)A1(--+))A1(A2(+--)A2(-+-)+)),\n",
       "   0.867,\n",
       "   0.133],\n",
       "  [A5(+A4(A1(A2(+-+)--)-A1(-++))A1(-A2(-+-)A2(--+))A1(-A2(-+-)-)),\n",
       "   0.707,\n",
       "   0.293,\n",
       "   A5(+-A1(-A2(-+-)A2(--+))A1(-A2(-+-)-)),\n",
       "   0.773,\n",
       "   0.227],\n",
       "  [A5(+A4(-A2(-+-)A1(-++))A2(+A1(-+-)A1(--+))A1(-A2(-+-)A2(--+))),\n",
       "   0.773,\n",
       "   0.227,\n",
       "   A5(+-A2(+A1(-+-)A1(--+))A1(-A2(-+-)A2(--+))),\n",
       "   0.8,\n",
       "   0.2],\n",
       "  [A5(+A4(A3(+A1(A2(+--)--))-A2(-+A1(--+)))A4(A1(+A2(-+-)+)A1(-A2(-+-)-)A1(-A2(-+-)-))A1(--A2(+-+))),\n",
       "   0.76,\n",
       "   0.24,\n",
       "   A5(+A4(A3(+A1(A2(+--)--))-A2(-+A1(--+)))-A1(--A2(+-+))),\n",
       "   0.773,\n",
       "   0.227],\n",
       "  [A5(+A1(-+A2(-++))A4(A1(++A2(--+))-A1(--+))A1(-A2(-+-)-)),\n",
       "   0.667,\n",
       "   0.333,\n",
       "   A5(+A1(-+A2(-++))-A1(-A2(-+-)-)),\n",
       "   0.707,\n",
       "   0.293],\n",
       "  [A5(+A4(A6(-+)-A2(A1(+--)-+))A2(A1(+-+)A1(-+-)-)A4(A3(A2(--+)+)--)),\n",
       "   0.693,\n",
       "   0.307,\n",
       "   A5(+-A2(A1(+-+)A1(-+-)-)A4(A3(A2(--+)+)--)),\n",
       "   0.76,\n",
       "   0.24],\n",
       "  [A5(+A6(A2(+A1(-+-)A1(--+))-)A4(A1(+A2(-+-)+)-A2(+--))A1(A2(+--)-+)),\n",
       "   0.747,\n",
       "   0.253,\n",
       "   A5(+A6(A2(+A1(-+-)A1(--+))-)A4(A1(+A2(-+-)+)-A2(+--))A1(--+)),\n",
       "   0.747,\n",
       "   0.253],\n",
       "  [A5(+A1(A2(+--)A2(-++)+)A2(A1(+--)--)A1(--A2(+-+))),\n",
       "   0.747,\n",
       "   0.253,\n",
       "   A5(+-A2(A1(+--)--)A1(--A2(+-+))),\n",
       "   0.773,\n",
       "   0.227]],\n",
       " 'partition_0.5': [[A5(+A1(A2(+--)A2(-+-)A2(--+))A4(-A2(-+A1(--+))-)A1(--A2(--+))),\n",
       "   0.726,\n",
       "   0.274,\n",
       "   A5(+A1(A2(+--)A2(-+-)A2(--+))A4(---)A1(--A2(--+))),\n",
       "   0.774,\n",
       "   0.226],\n",
       "  [A5(+A1(A2(+--)+A2(--+))A4(A2(+A1(-++)-)-A6(-A1(A2(+--)++)))A1(-A2(-+-)+)),\n",
       "   0.726,\n",
       "   0.274,\n",
       "   A5(+A1(A2(+--)+A2(--+))A4(+-A6(-A1(A2(+--)++)))A1(-A2(-+-)+)),\n",
       "   0.742,\n",
       "   0.258],\n",
       "  [A5(+A1(A2(+--)-A2(--+))A4(A1(-A2(-+-)+)-A2(++A1(--+)))A1(-A2(-+-)A2(+-+))),\n",
       "   0.79,\n",
       "   0.21,\n",
       "   A5(+A1(A2(+--)-A2(--+))-A1(-A2(-+-)A2(+-+))),\n",
       "   0.839,\n",
       "   0.161],\n",
       "  [A5(+A4(A1(A2(+--)++)-A1(A2(+--)+A2(+-+)))A2(A1(+-+)A1(-++)A1(--+))A1(--A2(+-+))),\n",
       "   0.79,\n",
       "   0.21,\n",
       "   A5(+A4(A1(A2(+--)++)--)A2(A1(+-+)A1(-++)A1(--+))A1(--A2(+-+))),\n",
       "   0.823,\n",
       "   0.177],\n",
       "  [A5(+A6(A2(+A1(-+-)-)A2(-A1(-+-)A1(--+)))A6(A4(A1(-A2(-+-)-)+-)A3(A1(A2(+--)++)A2(-A1(-+-)A1(--+))))A1(-A2(-+-)A2(+-+))),\n",
       "   0.839,\n",
       "   0.161,\n",
       "   A5(+A6(A2(+A1(-+-)-)A2(-A1(-+-)A1(--+)))A6(-A3(A1(A2(+--)++)A2(-A1(-+-)A1(--+))))A1(-A2(-+-)A2(+-+))),\n",
       "   0.903,\n",
       "   0.097],\n",
       "  [A5(+A4(A1(A2(+-+)A2(-+-)+)-A3(A6(+A1(-+-))-))A6(-A1(-A2(++-)A2(-++)))A4(A2(-++)-A1(-A2(-+-)+))),\n",
       "   0.677,\n",
       "   0.323,\n",
       "   A5(+A4(A1(A2(+-+)A2(-+-)+)-A3(A6(+A1(-+-))-))A6(-A1(-A2(++-)A2(-++)))-),\n",
       "   0.71,\n",
       "   0.29],\n",
       "  [A5(+A4(A3(+A1(A2(+-+)--))A2(-+-)A3(A1(A2(+--)++)-))A1(A2(+--)-A2(--+))A1(A2(+--)A2(-+-)A2(+-+))),\n",
       "   0.855,\n",
       "   0.145,\n",
       "   A5(+A4(A3(+-)A2(-+-)A3(A1(A2(+--)++)-))A1(A2(+--)-A2(--+))A1(A2(+--)A2(-+-)A2(+-+))),\n",
       "   0.871,\n",
       "   0.129],\n",
       "  [A5(+A6(A2(+A1(-+-)A1(--+))A1(A2(+--)--))A1(-A2(-+-)+)A1(-A2(-++)A2(--+))),\n",
       "   0.806,\n",
       "   0.194,\n",
       "   A5(+A6(A2(+A1(-+-)A1(--+))A1(---))A1(-A2(-+-)+)A1(-A2(-++)A2(--+))),\n",
       "   0.806,\n",
       "   0.194],\n",
       "  [A5(+A4(A1(A2(+--)++)-A1(--A2(+-+)))A6(-A3(A1(A2(+--)A2(-++)+)-))A1(A2(+--)A2(-+-)A2(+-+))),\n",
       "   0.79,\n",
       "   0.21,\n",
       "   A5(+-A6(-A3(A1(A2(+--)A2(-++)+)-))A1(A2(+--)A2(-+-)A2(+-+))),\n",
       "   0.823,\n",
       "   0.177],\n",
       "  [A5(+A4(A1(A2(+--)A2(-++)+)-A2(A1(+--)-A1(-++)))A1(A2(+--)A2(-+-)+)A1(A2(+--)+A2(+-+))),\n",
       "   0.806,\n",
       "   0.194,\n",
       "   A5(+A4(A1(A2(+--)A2(-++)+)-A2(A1(+--)-A1(-++)))A1(A2(+--)A2(-+-)+)-),\n",
       "   0.823,\n",
       "   0.177],\n",
       "  [A5(+A1(A2(+--)A2(-++)A2(--+))A4(A1(+A2(-+-)-)-A6(-A1(+A2(-+-)+)))A1(A2(+--)+A2(+-+))),\n",
       "   0.774,\n",
       "   0.226,\n",
       "   A5(+A1(A2(+--)A2(-++)A2(--+))A4(A1(+A2(-+-)-)-A6(-A1(+A2(-+-)+)))-),\n",
       "   0.855,\n",
       "   0.145],\n",
       "  [A5(+A1(-A2(-++)A2(--+))A3(A6(A1(+--)+)A1(--A2(--+)))A1(A2(+--)A2(-+-)+)),\n",
       "   0.758,\n",
       "   0.242,\n",
       "   A5(+A1(-A2(-++)A2(--+))A3(A6(-+)A1(--A2(--+)))A1(A2(+--)A2(-+-)+)),\n",
       "   0.806,\n",
       "   0.194],\n",
       "  [A5(+A4(A1(A2(+--)++)A1(-+-)A2(--+))A6(-A4(+A2(--+)-))A1(-A2(-+-)+)),\n",
       "   0.629,\n",
       "   0.371,\n",
       "   A5(+A4(A1(A2(+--)++)A1(-+-)A2(--+))A6(--)A1(-A2(-+-)+)),\n",
       "   0.677,\n",
       "   0.323],\n",
       "  [A5(+A1(-A2(-++)A2(--+))A2(A1(+--)A1(-+-)-)A1(-A2(-+-)A2(+-+))),\n",
       "   0.871,\n",
       "   0.129,\n",
       "   A5(+A1(-A2(-++)A2(--+))A2(A1(+--)A1(-+-)-)A1(-A2(-+-)+)),\n",
       "   0.871,\n",
       "   0.129],\n",
       "  [A5(+A4(A1(A2(+--)++)A2(-+-)A1(-++))A2(A1(+--)A1(-+-)A1(--+))A4(A1(-+-)A1(A2(+--)-+)-)),\n",
       "   0.742,\n",
       "   0.258,\n",
       "   A5(+-A2(A1(+--)A1(-+-)A1(--+))A4(A1(-+-)A1(A2(+--)-+)-)),\n",
       "   0.806,\n",
       "   0.194],\n",
       "  [A5(+A3(A4(A1(-+-)-A1(A2(+--)+A2(--+)))-)A6(A2(+--)A2(A1(+--)A1(-++)+))A1(-A2(-+-)+)),\n",
       "   0.71,\n",
       "   0.29,\n",
       "   A5(+A3(A4(A1(-+-)-A1(A2(+--)+A2(--+)))-)A6(-A2(A1(+--)A1(-++)+))A1(-A2(-+-)+)),\n",
       "   0.758,\n",
       "   0.242],\n",
       "  [A5(+A2(A1(+--)A1(-+-)A1(-++))A4(A1(A2(+-+)++)-A2(+-A1(--+)))A1(A2(+--)A2(-+-)+)),\n",
       "   0.79,\n",
       "   0.21,\n",
       "   A5(+A2(A1(+--)A1(-+-)A1(-++))-A1(A2(+--)A2(-+-)+)),\n",
       "   0.871,\n",
       "   0.129],\n",
       "  [A5(+A1(-A2(-++)A2(--+))A4(--A1(-A2(-+-)+))A1(A2(+--)A2(-+-)A2(+-+))),\n",
       "   0.79,\n",
       "   0.21,\n",
       "   A5(+A1(-A2(-++)A2(--+))A4(--A1(-A2(-+-)+))A1(-A2(-+-)A2(+-+))),\n",
       "   0.79,\n",
       "   0.21],\n",
       "  [A5(+A3(A2(A1(+--)++)A4(A1(A2(++-)--)+-))A2(A1(+--)A1(-+-)-)A1(-A2(-+-)A2(+-+))),\n",
       "   0.774,\n",
       "   0.226,\n",
       "   A5(+A3(A2(A1(+--)++)-)A2(A1(+--)A1(-+-)-)A1(-A2(-+-)A2(+-+))),\n",
       "   0.839,\n",
       "   0.161],\n",
       "  [A5(+A1(A2(+--)A2(-+-)A2(--+))A1(-A2(-+-)-)A1(-A2(-+-)A2(+-+))),\n",
       "   0.871,\n",
       "   0.129,\n",
       "   A5(+A1(A2(+--)A2(-+-)A2(--+))A1(-A2(-+-)-)A1(-A2(-+-)A2(+-+))),\n",
       "   0.871,\n",
       "   0.129]],\n",
       " 'partition_0.6': [[A5(+A4(A3(+A2(A1(+--)--))-A2(--A1(--+)))A6(A2(A1(+--)--)A1(A2(+--)A2(-+-)A2(-++)))A1(-A2(-+-)A2(+-+))),\n",
       "   0.84,\n",
       "   0.16,\n",
       "   A5(+A4(A3(+A2(A1(+--)--))-A2(--A1(--+)))A6(A2(A1(+--)--)A1(A2(+--)A2(-+-)+))A1(-A2(-+-)A2(+-+))),\n",
       "   0.84,\n",
       "   0.16],\n",
       "  [A5(+A4(A1(A2(+--)+-)-A1(-A2(-+-)+))A6(A4(A2(-A1(-+-)-)A3(-+)-)A3(A4(A1(+--)A1(-++)+)A1(--A2(--+))))A1(A2(+--)A2(-+-)A2(+-+))),\n",
       "   0.8,\n",
       "   0.2,\n",
       "   A5(+-A6(A4(A2(-A1(-+-)-)A3(-+)-)A3(A4(A1(+--)A1(-++)+)A1(--A2(--+))))A1(A2(+--)A2(-+-)A2(+-+))),\n",
       "   0.86,\n",
       "   0.14],\n",
       "  [A5(+A4(A1(A2(+--)+-)-A3(A6(+A1(-+A2(--+)))-))A3(A4(A1(+--)A1(-A2(-+-)+)+)A4(A2(-+-)--))A1(A2(+--)A2(-+-)A2(+-+))),\n",
       "   0.74,\n",
       "   0.26,\n",
       "   A5(+A4(A1(A2(+--)+-)-A3(A6(+A1(-+A2(--+)))-))-A1(A2(+--)A2(-+-)A2(+-+))),\n",
       "   0.8,\n",
       "   0.2],\n",
       "  [A5(+A4(A1(A2(+--)A2(-++)+)-A2(A1(+--)-A1(-++)))A4(A2(A1(+--)A1(++-)+)A6(A1(A2(+--)--)A1(-+A2(--+)))A1(A2(+--)-+))A1(A2(+--)A2(-+-)A2(--+))),\n",
       "   0.88,\n",
       "   0.12,\n",
       "   A5(+A4(A1(A2(+--)A2(-++)+)-A2(A1(+--)-A1(-++)))-A1(A2(+--)A2(-+-)A2(--+))),\n",
       "   0.9,\n",
       "   0.1],\n",
       "  [A5(+A2(A1(+--)A1(-+-)A1(--+))A1(A2(+--)A2(-+-)A2(+-+))A1(A2(+--)A2(-+-)A2(+-+))),\n",
       "   0.98,\n",
       "   0.02,\n",
       "   A5(+A2(A1(+--)A1(-+-)A1(--+))A1(A2(+--)A2(-+-)A2(+-+))A1(-A2(-+-)A2(+-+))),\n",
       "   0.98,\n",
       "   0.02],\n",
       "  [A5(+A2(A1(+--)A1(-+-)A1(--+))A4(A2(A1(+--)++)A2(A1(+--)A1(-+-)-)A2(-A1(-+-)-))A1(A2(+--)A2(-+-)A2(+-+))),\n",
       "   0.88,\n",
       "   0.12,\n",
       "   A5(+A2(A1(+--)A1(-+-)A1(--+))-A1(A2(+--)A2(-+-)A2(+-+))),\n",
       "   0.92,\n",
       "   0.08],\n",
       "  [A5(+A1(A2(+--)A2(-++)A2(-++))A6(A4(A1(-A2(-+-)-)A1(A2(+--)--)-)A2(+A1(-+-)A1(--+)))A4(A1(-+A2(+-+))-A2(-A1(-+-)-))),\n",
       "   0.8,\n",
       "   0.2,\n",
       "   A5(+A1(A2(+--)A2(-++)A2(-++))A6(A4(A1(-A2(-+-)-)A1(A2(+--)--)-)A2(+A1(-+-)A1(--+)))A4(A1(-++)-A2(-A1(-+-)-))),\n",
       "   0.8,\n",
       "   0.2],\n",
       "  [A5(+A2(A1(+--)A1(-++)A1(--+))A6(A4(+A1(A2(+--)--)-)A3(+A1(-+A2(+-+))))A1(A2(+--)A2(-+-)+)),\n",
       "   0.76,\n",
       "   0.24,\n",
       "   A5(+A2(A1(+--)A1(-++)A1(--+))-A1(A2(+--)A2(-+-)+)),\n",
       "   0.88,\n",
       "   0.12],\n",
       "  [A5(+A1(-A2(-+-)A2(-++))A4(A2(A1(+-+)A1(-+-)+)A2(A1(+--)A1(-+-)-)A1(-A2(-+-)-))A1(-A2(-+-)A2(--+))),\n",
       "   0.82,\n",
       "   0.18,\n",
       "   A5(+A1(-A2(-+-)A2(-++))-A1(-A2(-+-)A2(--+))),\n",
       "   0.84,\n",
       "   0.16],\n",
       "  [A5(+A4(A1(A2(+--)-A2(--+))-A1(-+-))A3(A1(A2(+-+)A2(-+-)+)A2(A1(+--)-A1(--+)))A1(A2(+--)A2(-+-)A2(--+))),\n",
       "   0.8,\n",
       "   0.2,\n",
       "   A5(+A4(A1(A2(+--)-A2(--+))--)A3(A1(A2(+-+)A2(-+-)+)A2(A1(+--)-A1(--+)))A1(A2(+--)A2(-+-)A2(--+))),\n",
       "   0.82,\n",
       "   0.18],\n",
       "  [A5(+A4(A2(A1(+--)A1(-+-)+)-A3(A1(A2(+--)+A2(-++))-))A6(-A1(A2(+--)A2(++-)+))A1(-A2(-+-)A2(+-+))),\n",
       "   0.78,\n",
       "   0.22,\n",
       "   A5(+-A6(-A1(A2(+--)A2(++-)+))A1(-A2(-+-)A2(+-+))),\n",
       "   0.8,\n",
       "   0.2],\n",
       "  [A5(+A1(A2(+--)A2(-+-)A2(--+))A1(A2(+--)A2(-+-)+)A1(A2(+--)A2(-+-)A2(+-+))),\n",
       "   0.96,\n",
       "   0.04,\n",
       "   A5(+A1(A2(+--)A2(-+-)A2(--+))A1(A2(+--)A2(-+-)+)A1(-A2(-+-)A2(+-+))),\n",
       "   0.96,\n",
       "   0.04],\n",
       "  [A5(+A4(A2(+A1(-+-)-)-A2(-A1(-+-)A1(-++)))A3(A2(A1(+--)A1(-+-)-)-)A1(-A2(-+-)A2(+-+))),\n",
       "   0.78,\n",
       "   0.22,\n",
       "   A5(+-A3(A2(A1(+--)A1(-+-)-)-)A1(-A2(-+-)A2(+-+))),\n",
       "   0.8,\n",
       "   0.2],\n",
       "  [A5(+A3(A2(A1(+--)A1(-++)+)A1(A2(+--)--))A6(-A2(A1(+--)A1(-+-)A1(+-+)))A1(A2(+--)A2(-+-)A2(+-+))),\n",
       "   0.82,\n",
       "   0.18,\n",
       "   A5(+-A6(-A2(A1(+--)A1(-+-)A1(+-+)))A1(A2(+--)A2(-+-)A2(+-+))),\n",
       "   0.84,\n",
       "   0.16],\n",
       "  [A5(+A1(A2(+--)+A2(--+))A2(A1(+-+)A1(-+-)A1(--+))A1(A2(+--)-A2(+-+))),\n",
       "   0.82,\n",
       "   0.18,\n",
       "   A5(+A1(A2(+--)+A2(--+))A2(A1(+-+)A1(-+-)A1(--+))A1(--A2(+-+))),\n",
       "   0.82,\n",
       "   0.18],\n",
       "  [A5(+A1(A2(+--)A2(-++)A2(-++))A6(A1(A2(+--)--)A1(A2(+-+)++))A1(A2(+--)A2(-+-)A2(+-+))),\n",
       "   0.82,\n",
       "   0.18,\n",
       "   A5(+A1(A2(+--)A2(-++)A2(-++))-A1(A2(+--)A2(-+-)A2(+-+))),\n",
       "   0.92,\n",
       "   0.08],\n",
       "  [A5(+A1(A2(+--)+A2(--+))A4(A1(+-+)A2(A1(+--)A1(-+-)+)A1(--+))A1(-A2(-+-)A2(+-+))),\n",
       "   0.74,\n",
       "   0.26,\n",
       "   A5(+A1(A2(+--)+A2(--+))-A1(-A2(-+-)A2(+-+))),\n",
       "   0.82,\n",
       "   0.18],\n",
       "  [A5(+A1(A2(+--)A2(-+-)A2(--+))A4(A1(+A2(-+-)+)A6(-A1(-+-))A2(+A1(-+-)-))A1(-A2(-+-)A2(+-+))),\n",
       "   0.88,\n",
       "   0.12,\n",
       "   A5(+A1(A2(+--)A2(-+-)A2(--+))-A1(-A2(-+-)A2(+-+))),\n",
       "   0.92,\n",
       "   0.08],\n",
       "  [A5(+A4(A2(A1(+--)A1(-+-)-)-A3(A1(A2(+--)++)-))A1(A2(+--)A2(-+-)A2(+-+))A3(A1(--A2(--+))A4(+A2(A1(+--)--)A1(++A2(--+))))),\n",
       "   0.8,\n",
       "   0.2,\n",
       "   A5(+A4(A2(A1(+--)A1(-+-)-)-A3(A1(A2(+--)++)-))A1(A2(+--)A2(-+-)A2(+-+))-),\n",
       "   0.82,\n",
       "   0.18],\n",
       "  [A5(+A1(-+A2(--+))A3(A4(+A1(-A2(-+-)+)+)A2(A1(+--)A1(-+-)-))A1(A2(+--)A2(-+-)A2(+-+))),\n",
       "   0.72,\n",
       "   0.28,\n",
       "   A5(+A1(-+A2(--+))-A1(A2(+--)A2(-+-)A2(+-+))),\n",
       "   0.78,\n",
       "   0.22]],\n",
       " 'partition_0.7': [[A5(+A1(A2(+--)A2(-+-)A2(-++))A6(A2(A1(+--)A1(-+-)-)A3(A2(A1(+--)++)A4(A1(++A2(--+))-A1(--+))))A1(A2(+--)A2(-+-)A2(+-+))),\n",
       "   0.921,\n",
       "   0.079,\n",
       "   A5(+A1(A2(+--)A2(-+-)A2(-++))A6(A2(A1(+--)A1(-+-)-)A3(A2(A1(+--)++)-))A1(A2(+--)A2(-+-)A2(+-+))),\n",
       "   0.947,\n",
       "   0.053],\n",
       "  [A5(+A1(A2(+--)A2(-+-)A2(--+))A4(A1(A2(+-+)A2(-+-)A2(--+))A2(A1(+--)A1(-+-)-)A1(--+))A3(-A4(+A2(A1(+--)--)A1(-A2(-+-)A2(--+))))),\n",
       "   0.789,\n",
       "   0.211,\n",
       "   A5(+A1(A2(+--)A2(-+-)A2(--+))A4(A1(A2(+-+)A2(-+-)A2(--+))A2(A1(+--)A1(-+-)-)A1(--+))A3(-A4(+A2(A1(+--)--)A1(-A2(-+-)-)))),\n",
       "   0.789,\n",
       "   0.211],\n",
       "  [A5(+A1(A2(+--)A2(-+-)A2(--+))A6(A1(A2(+--)--)A4(A1(+A2(-+-)A2(--+))A1(--+)A1(A2(+--)++)))A1(-A2(-+-)A2(+-+))),\n",
       "   0.868,\n",
       "   0.132,\n",
       "   A5(+A1(A2(+--)A2(-+-)A2(--+))A6(A1(A2(+--)--)A4(A1(+A2(-+-)A2(--+))-A1(A2(+--)++)))A1(-A2(-+-)A2(+-+))),\n",
       "   0.895,\n",
       "   0.105],\n",
       "  [A5(+A1(A2(+--)A2(-+-)A2(--+))A6(A4(A2(-A1(-+-)-)A1(+--)-)A3(A4(-++)A2(--A1(+-+))))A1(-A2(-+-)A2(+-+))),\n",
       "   0.816,\n",
       "   0.184,\n",
       "   A5(+A1(A2(+--)A2(-+-)A2(--+))-A1(-A2(-+-)A2(+-+))),\n",
       "   0.895,\n",
       "   0.105],\n",
       "  [A5(+A4(A2(+A1(-+-)-)-A2(A1(+--)-+))A6(A2(A1(+--)A1(-+-)-)A3(A4(A1(+--)A1(-+-)+)A4(A1(+A2(-+-)+)--)))A1(A2(+--)A2(-+-)A2(--+))),\n",
       "   0.737,\n",
       "   0.263,\n",
       "   A5(+A4(A2(+A1(-+-)-)--)A6(A2(A1(+--)A1(-+-)-)A3(A4(A1(+--)A1(-+-)+)A4(A1(+A2(-+-)+)--)))A1(A2(+--)A2(-+-)A2(--+))),\n",
       "   0.789,\n",
       "   0.211],\n",
       "  [A5(+A4(A1(A2(+--)+A2(--+))-A1(-A2(-+-)A2(--+)))A4(A2(+A1(-+-)+)A3(A6(-+)-)A2(+-A1(--+)))A1(-A2(-+-)A2(+-+))),\n",
       "   0.711,\n",
       "   0.289,\n",
       "   A5(+A4(A1(A2(+--)+A2(--+))-A1(-A2(-+-)A2(--+)))-A1(-A2(-+-)A2(+-+))),\n",
       "   0.816,\n",
       "   0.184],\n",
       "  [A5(+A2(A1(+--)A1(-+-)A1(--+))A4(A3(A1(A2(+--)++)A1(--A2(--+)))A2(A1(+--)A1(-+-)-)A1(-A2(-+-)-))A1(A2(+--)A2(-+-)A2(+-+))),\n",
       "   0.842,\n",
       "   0.158,\n",
       "   A5(+A2(A1(+--)A1(-+-)A1(--+))A4(-A2(A1(+--)A1(-+-)-)A1(-A2(-+-)-))A1(A2(+--)A2(-+-)A2(+-+))),\n",
       "   0.868,\n",
       "   0.132],\n",
       "  [A5(+A1(-A2(-+-)A2(-++))A2(A1(+--)A1(-+-)A1(--+))A4(A3(A1(--A2(--+))+)A2(A1(+--)--)A1(-A2(-+-)A2(--+)))),\n",
       "   0.842,\n",
       "   0.158,\n",
       "   A5(+A1(-A2(-+-)A2(-++))A2(A1(+--)A1(-+-)A1(--+))A4(A3(A1(--A2(--+))+)A2(A1(+--)--)A1(--A2(--+)))),\n",
       "   0.842,\n",
       "   0.158],\n",
       "  [A5(+A4(A1(A2(+--)+A2(--+))-A1(-+A2(--+)))A6(A4(A1(A2(+--)A2(-+-)-)A1(A2(+--)--)-)A1(+A2(++-)+))A1(-A2(-+-)A2(+-+))),\n",
       "   0.684,\n",
       "   0.316,\n",
       "   A5(+A4(A1(A2(+--)+A2(--+))-A1(-+A2(--+)))-A1(-A2(-+-)A2(+-+))),\n",
       "   0.842,\n",
       "   0.158],\n",
       "  [A5(+A1(A2(+--)A2(-+-)A2(--+))A6(A1(A2(+--)--)A3(+A4(A1(-A2(-+-)A2(--+))--)))A1(A2(+--)A2(-+-)A2(+-+))),\n",
       "   0.895,\n",
       "   0.105,\n",
       "   A5(+A1(A2(+--)A2(-+-)A2(--+))A6(A1(A2(+--)--)A3(+A4(A1(-A2(-+-)A2(--+))--)))A1(A2(+--)A2(-+-)+)),\n",
       "   0.895,\n",
       "   0.105],\n",
       "  [A5(+A4(A2(A1(+-+)A1(-++)-)-A3(A2(A1(+--)-+)-))A1(A2(+--)A2(-+-)A2(-++))A4(A2(-A1(-+-)+)A2(A1(+--)--)A1(-A2(-+-)A2(--+)))),\n",
       "   0.763,\n",
       "   0.237,\n",
       "   A5(+-A1(A2(+--)A2(-+-)A2(-++))A4(A2(-A1(-+-)+)A2(A1(+--)--)A1(-A2(-+-)A2(--+)))),\n",
       "   0.816,\n",
       "   0.184],\n",
       "  [A5(+A1(A2(+--)A2(-+-)A2(--+))A6(A2(A1(+--)--)A1(A2(+--)+A2(-++)))A1(A2(+--)A2(-++)A2(+-+))),\n",
       "   0.842,\n",
       "   0.158,\n",
       "   A5(+A1(A2(+--)A2(-+-)A2(--+))-A1(A2(+--)A2(-++)A2(+-+))),\n",
       "   0.921,\n",
       "   0.079],\n",
       "  [A5(+A4(A2(A1(+-+)+-)-A1(A2(+--)++))A4(A2(A1(+--)A1(-+-)+)A1(-A2(-+-)-)A1(-+-))A1(-A2(-+-)A2(+-+))),\n",
       "   0.553,\n",
       "   0.447,\n",
       "   A5(+-A4(A2(A1(+--)A1(-+-)+)A1(-A2(-+-)-)A1(-+-))A1(-A2(-+-)A2(+-+))),\n",
       "   0.711,\n",
       "   0.289],\n",
       "  [A5(+A3(A1(A2(+--)+A2(-++))A6(A2(+--)-))A1(A2(+--)A2(-+-)A2(--+))A1(-A2(-+-)A2(+-+))),\n",
       "   0.868,\n",
       "   0.132,\n",
       "   A5(+A3(A1(A2(+--)+A2(-++))A6(A2(+--)-))A1(A2(+--)A2(-+-)A2(--+))A1(-A2(-+-)+)),\n",
       "   0.868,\n",
       "   0.132],\n",
       "  [A5(+A1(A2(+--)A2(-+-)A2(--+))A1(A2(+--)A2(-+-)A2(+-+))A1(A2(+--)A2(-+-)A2(--+))),\n",
       "   0.974,\n",
       "   0.026,\n",
       "   A5(+A1(A2(+--)A2(-+-)A2(--+))A1(A2(+--)A2(-+-)A2(+-+))A1(-A2(-+-)A2(--+))),\n",
       "   0.974,\n",
       "   0.026],\n",
       "  [A5(+A6(A2(+A1(-+-)A1(--+))A1(-A2(-+-)-))A1(A2(+--)A2(-+-)+)A1(-A2(-+-)A2(+-+))),\n",
       "   0.842,\n",
       "   0.158,\n",
       "   A5(+A6(A2(+A1(-+-)A1(--+))A1(-A2(-+-)-))A1(A2(+--)A2(-+-)+)A1(-A2(-+-)+)),\n",
       "   0.842,\n",
       "   0.158],\n",
       "  [A5(+A4(A2(A1(+-+)A1(-+-)-)A2(-+-)A2(A1(+--)A1(-+-)+))A2(A1(+--)A1(-+-)A1(--+))A1(A2(+--)A2(-+-)A2(+-+))),\n",
       "   0.895,\n",
       "   0.105,\n",
       "   A5(+-A2(A1(+--)A1(-+-)A1(--+))A1(A2(+--)A2(-+-)A2(+-+))),\n",
       "   0.947,\n",
       "   0.053],\n",
       "  [A5(+A4(A1(A2(+--)A2(-+-)A2(--+))-A1(A2(+--)+A2(--+)))A2(A1(+-+)A1(-+-)-)A1(A2(+--)A2(-+-)A2(+-+))),\n",
       "   0.842,\n",
       "   0.158,\n",
       "   A5(+A4(A1(A2(+--)A2(-+-)A2(--+))-A1(A2(+--)+A2(--+)))-A1(A2(+--)A2(-+-)A2(+-+))),\n",
       "   0.868,\n",
       "   0.132],\n",
       "  [A5(+A2(A1(+--)A1(-+-)A1(--+))A6(A1(A2(+--)--)A3(A1(+A2(-+-)+)A4(A1(-+-)-A1(--+))))A1(A2(+--)A2(-+-)A2(+-+))),\n",
       "   0.895,\n",
       "   0.105,\n",
       "   A5(+A2(A1(+--)A1(-+-)A1(--+))A6(A1(A2(+--)--)A3(A1(+A2(-+-)+)A4(--A1(--+))))A1(A2(+--)A2(-+-)A2(+-+))),\n",
       "   0.921,\n",
       "   0.079],\n",
       "  [A5(+A3(A4(A1(-++)-A2(A1(+--)--))-)A1(A2(+--)A2(-+-)A2(-++))A1(A2(+--)A2(-+-)A2(+-+))),\n",
       "   0.789,\n",
       "   0.211,\n",
       "   A5(+A3(A4(A1(-++)-A2(A1(+--)--))-)A1(A2(+--)A2(-+-)A2(-++))A1(-A2(-+-)A2(+-+))),\n",
       "   0.789,\n",
       "   0.211]],\n",
       " 'partition_0.8': [[A5(+A6(A1(A2(+--)A2(++-)+)A4(A3(+A1(A2(+--)--))-A1(-A2(-+-)A2(--+))))A4(A1(A2(+--)A2(-+-)A2(--+))A1(A2(+--)A2(-+-)-)A2(+A1(-+-)-))A1(A2(+--)A2(-+-)A2(+-+))),\n",
       "   0.88,\n",
       "   0.12,\n",
       "   A5(+A6(A1(A2(+--)A2(++-)+)A4(A3(+A1(A2(+--)--))-A1(-A2(-+-)A2(--+))))A4(A1(A2(+--)A2(-+-)A2(--+))A1(A2(+--)A2(-+-)-)A2(+A1(-+-)-))A1(-A2(-+-)A2(+-+))),\n",
       "   0.88,\n",
       "   0.12],\n",
       "  [A5(+A2(A1(+--)A1(-+-)A1(--+))A1(A2(+--)A2(-+-)A2(+-+))A1(-A2(-+-)A2(+-+))),\n",
       "   0.92,\n",
       "   0.08,\n",
       "   A5(+A2(A1(+--)A1(-+-)A1(--+))A1(A2(+--)A2(-+-)A2(+-+))A1(--A2(+-+))),\n",
       "   0.92,\n",
       "   0.08],\n",
       "  [A5(+A3(A1(A2(+--)+A2(-++))A1(A2(+--)A2(-+-)A2(--+)))A6(-A4(A1(+A2(-+-)+)A3(+-)+))A1(A2(+--)A2(-+-)A2(+-+))),\n",
       "   0.68,\n",
       "   0.32,\n",
       "   A5(+A3(A1(A2(+--)+A2(-++))A1(A2(+--)A2(-+-)A2(--+)))-A1(A2(+--)A2(-+-)A2(+-+))),\n",
       "   0.84,\n",
       "   0.16],\n",
       "  [A5(+A6(A1(A2(+--)+A2(+-+))A2(A1(+--)A1(-++)A1(--+)))A6(A2(A1(+--)A1(-+-)-)A3(A4(A1(+--)++)A1(--A2(-++))))A1(A2(+--)A2(-+-)A2(--+))),\n",
       "   0.84,\n",
       "   0.16,\n",
       "   A5(+A6(A1(A2(+--)+A2(+-+))A2(A1(+--)A1(-++)A1(--+)))A6(A2(A1(+--)A1(-+-)-)A3(A4(A1(+--)++)-))A1(A2(+--)A2(-+-)A2(--+))),\n",
       "   0.88,\n",
       "   0.12],\n",
       "  [A5(+A1(A2(+--)A2(-+-)A2(--+))A1(A2(+--)A2(-+-)A2(-++))A4(A3(A1(--A2(--+))+)A2(A1(+--)--)A1(-A2(-+-)A2(+-+)))),\n",
       "   0.88,\n",
       "   0.12,\n",
       "   A5(+A1(A2(+--)A2(-+-)A2(--+))A1(A2(+--)A2(-+-)A2(-++))A4(A3(A1(--A2(--+))+)A2(A1(+--)--)A1(-A2(-+-)+))),\n",
       "   0.88,\n",
       "   0.12],\n",
       "  [A5(+A1(A2(+--)A2(-+-)A2(--+))A1(A2(+--)A2(-+-)A2(--+))A1(A2(+--)A2(-+-)A2(--+))),\n",
       "   1.0,\n",
       "   0.0,\n",
       "   A5(+A1(A2(+--)A2(-+-)A2(--+))A1(A2(+--)A2(-+-)A2(--+))A1(A2(+--)-A2(--+))),\n",
       "   1.0,\n",
       "   0.0],\n",
       "  [A5(+A4(A1(A2(+--)+A2(--+))A2(-+-)A2(-A1(-+-)A1(-++)))A1(A2(+--)A2(-+-)A2(+-+))A1(-A2(-+-)A2(+-+))),\n",
       "   0.84,\n",
       "   0.16,\n",
       "   A5(+-A1(A2(+--)A2(-+-)A2(+-+))A1(-A2(-+-)A2(+-+))),\n",
       "   0.88,\n",
       "   0.12],\n",
       "  [A5(+A2(A1(+--)A1(-+-)A1(--+))A4(A1(+A2(-+-)A2(--+))A1(A2(+--)A2(-+-)-)A1(-A2(-+-)+))A1(A2(+--)A2(-+-)A2(+-+))),\n",
       "   0.88,\n",
       "   0.12,\n",
       "   A5(+A2(A1(+--)A1(-+-)A1(--+))A4(A1(+A2(-+-)A2(--+))A1(A2(+--)A2(-+-)-)A1(-A2(-+-)+))A1(A2(+--)A2(-+-)+)),\n",
       "   0.88,\n",
       "   0.12],\n",
       "  [A5(+A4(A2(A1(+--)A1(-+-)-)A2(-+-)A3(A2(A1(+--)-A1(--+))-))A6(A1(A2(+--)--)A1(A2(+--)A2(-+-)A2(--+)))A1(A2(+--)A2(-+-)A2(+-+))),\n",
       "   0.84,\n",
       "   0.16,\n",
       "   A5(+A4(A2(A1(+--)A1(-+-)-)A2(-+-)A3(A2(A1(+--)-A1(--+))-))A6(A1(A2(+--)--)A1(A2(+--)A2(-+-)A2(--+)))A1(A2(+--)-A2(+-+))),\n",
       "   0.84,\n",
       "   0.16],\n",
       "  [A5(+A6(A1(A2(+--)++)A2(--A1(--+)))A6(A4(A1(+A2(-+-)-)A1(A2(+--)--)-)A3(A4(A1(+--)++)A1(-A2(-+-)A2(--+))))A1(A2(+--)A2(-+-)A2(--+))),\n",
       "   0.72,\n",
       "   0.28,\n",
       "   A5(+A6(A1(A2(+--)++)A2(--A1(--+)))-A1(A2(+--)A2(-+-)A2(--+))),\n",
       "   0.8,\n",
       "   0.2],\n",
       "  [A5(+A4(A1(A2(+--)++)-A3(A1(A2(+--)+A2(--+))A2(--A1(--+))))A6(A4(A1(-A2(-+-)-)--)A4(A1(+A2(-+-)+)A1(-+-)A1(+A2(-+-)+)))A1(A2(+--)A2(-+-)A2(+-+))),\n",
       "   0.68,\n",
       "   0.32,\n",
       "   A5(+A4(A1(A2(+--)++)-A3(A1(A2(+--)+A2(--+))A2(--A1(--+))))A6(A4(A1(-A2(-+-)-)--)-)A1(A2(+--)A2(-+-)A2(+-+))),\n",
       "   0.72,\n",
       "   0.28],\n",
       "  [A5(+A4(A1(A2(+--)A2(-++)-)A2(-+-)A1(--A2(--+)))A3(A6(A4(A1(A2(+--)A2(-+-)-)--)A4(A1(+--)A1(-++)+))A1(A2(+--)A2(-+-)-))A1(A2(+--)A2(-+-)A2(+-+))),\n",
       "   0.8,\n",
       "   0.2,\n",
       "   A5(+A4(A1(A2(+--)A2(-++)-)A2(-+-)A1(--A2(--+)))A3(A6(A4(A1(A2(+--)A2(-+-)-)--)A4(A1(+--)A1(-++)+))A1(A2(+--)A2(-+-)-))A1(-A2(-+-)A2(+-+))),\n",
       "   0.8,\n",
       "   0.2],\n",
       "  [A5(+A6(A2(+A1(-+-)A1(--+))A2(-A1(-+-)A1(--+)))A6(A4(A3(A1(A2(+--)A2(-+-)-)-)A1(+--)-)A3(+A1(-A2(-+-)A2(-++))))A1(A2(+--)A2(-+-)A2(+-+))),\n",
       "   0.8,\n",
       "   0.2,\n",
       "   A5(+A6(A2(+A1(-+-)A1(--+))A2(-A1(-+-)A1(--+)))-A1(A2(+--)A2(-+-)A2(+-+))),\n",
       "   0.92,\n",
       "   0.08],\n",
       "  [A5(+A3(A1(A2(+--)+A2(-++))A1(A2(+--)A2(-+-)-))A3(A6(A4(A1(A2(+--)A2(-+-)-)--)A1(A2(+--)++))A1(--A2(--+)))A1(A2(+--)A2(-+-)A2(+-+))),\n",
       "   0.8,\n",
       "   0.2,\n",
       "   A5(+A3(A1(A2(+--)+A2(-++))A1(A2(+--)A2(-+-)-))A3(A6(A4(A1(A2(+--)A2(-+-)-)--)A1(A2(+--)++))A1(--A2(--+)))A1(A2(+--)A2(-+-)+)),\n",
       "   0.8,\n",
       "   0.2],\n",
       "  [A5(+A4(A6(A1(A2(+--)++)A1(A2(+--)--))A2(-+-)A3(A1(A2(+--)+A2(-++))A2(--A1(--+))))A3(A4(A1(+A2(-+-)+)A6(-A1(-+-))+)A1(A2(+--)-A2(--+)))A1(A2(+--)A2(-+-)A2(+-+))),\n",
       "   0.76,\n",
       "   0.24,\n",
       "   A5(+A4(A6(A1(A2(+--)++)A1(A2(+--)--))A2(-+-)A3(A1(A2(+--)+A2(-++))A2(--A1(--+))))A3(-A1(A2(+--)-A2(--+)))A1(A2(+--)A2(-+-)A2(+-+))),\n",
       "   0.8,\n",
       "   0.2],\n",
       "  [A5(+A1(-A2(-++)A2(--+))A6(A1(A2(+--)--)A1(A2(+--)A2(-+-)A2(+-+)))A1(A2(+--)A2(-+-)A2(+-+))),\n",
       "   0.76,\n",
       "   0.24,\n",
       "   A5(+-A6(A1(A2(+--)--)A1(A2(+--)A2(-+-)A2(+-+)))A1(A2(+--)A2(-+-)A2(+-+))),\n",
       "   0.8,\n",
       "   0.2],\n",
       "  [A5(+A1(A2(+--)A2(-+-)A2(--+))A6(A1(A2(+--)--)A3(A4(A1(+--)A1(-++)+)A1(-A2(-+-)A2(--+))))A1(A2(+--)A2(-+-)A2(+-+))),\n",
       "   0.96,\n",
       "   0.04,\n",
       "   A5(+A1(A2(+--)A2(-+-)A2(--+))A6(A1(A2(+--)--)A3(A4(A1(+--)A1(-++)+)A1(-A2(-+-)A2(--+))))A1(-A2(-+-)A2(+-+))),\n",
       "   0.96,\n",
       "   0.04],\n",
       "  [A5(+A3(A4(A1(-++)-A2(A1(+--)++))A6(A2(+A1(-+-)-)A2(--A1(--+))))A6(A4(A1(+A2(-+-)+)A3(-+)-)A4(A2(-A1(-+-)-)A1(-++)+))A3(A2(-A1(-+-)-)A4(+A2(A1(+--)--)A1(-+A2(--+))))),\n",
       "   0.4,\n",
       "   0.6,\n",
       "   A5(+A3(A4(A1(-++)-A2(A1(+--)++))A6(A2(+A1(-+-)-)A2(--A1(--+))))-A3(A2(-A1(-+-)-)A4(+A2(A1(+--)--)A1(-+A2(--+))))),\n",
       "   0.6,\n",
       "   0.4],\n",
       "  [A5(+A4(A1(A2(+--)A2(-++)A2(--+))A2(-+-)A3(A6(+A1(-+A2(--+)))-))A3(A1(A2(+--)A2(-+-)+)A1(A2(+--)-A2(--+)))A1(A2(+--)A2(-+-)A2(+-+))),\n",
       "   0.88,\n",
       "   0.12,\n",
       "   A5(+A4(A1(A2(+--)A2(-++)A2(--+))A2(-+-)-)A3(A1(A2(+--)A2(-+-)+)A1(A2(+--)-A2(--+)))A1(A2(+--)A2(-+-)A2(+-+))),\n",
       "   0.92,\n",
       "   0.08],\n",
       "  [A5(+A2(A1(+--)A1(-+-)A1(--+))A6(A2(A1(+--)A1(-+-)-)A3(A1(A2(+-+)A2(-+-)+)A4(A1(++A2(--+))--)))A1(-A2(-+-)A2(+-+))),\n",
       "   0.88,\n",
       "   0.12,\n",
       "   A5(+A2(A1(+--)A1(-+-)A1(--+))A6(A2(A1(+--)A1(-+-)-)A3(A1(A2(+-+)A2(-+-)+)-))A1(-A2(-+-)A2(+-+))),\n",
       "   0.92,\n",
       "   0.08]]}"
      ]
     },
     "execution_count": 32,
     "metadata": {},
     "output_type": "execute_result"
    }
   ],
   "source": [
    "d"
   ]
  },
  {
   "cell_type": "markdown",
   "metadata": {},
   "source": [
    "## Assignment 7:"
   ]
  },
  {
   "cell_type": "markdown",
   "metadata": {},
   "source": [
    "> Evaluate the effect pruning has on the test error for\n",
    "the `monk1` and `monk3` datasets, in particular determine the optimal\n",
    "partition into training and pruning by optimizing the parameter\n",
    "fraction. Plot the classification error on the test sets as a function\n",
    "of the parameter `fraction` $\\subset (0.3, 0.4, 0.5, 0.6, 0.7, 0.8)$\n",
    ".\n",
    "Note that the split of the data is random. We therefore need to\n",
    "compute the statistics over several runs of the split to be able to draw\n",
    "any conclusions. Reasonable statistics includes mean and a measure\n",
    "of the spread. Do remember to print axes labels, legends and data\n",
    "points as you will not pass without them."
   ]
  }
 ],
 "metadata": {
  "kernelspec": {
   "display_name": "Python 3",
   "language": "python",
   "name": "python3"
  },
  "language_info": {
   "codemirror_mode": {
    "name": "ipython",
    "version": 3
   },
   "file_extension": ".py",
   "mimetype": "text/x-python",
   "name": "python",
   "nbconvert_exporter": "python",
   "pygments_lexer": "ipython3",
   "version": "3.6.6"
  }
 },
 "nbformat": 4,
 "nbformat_minor": 2
}
