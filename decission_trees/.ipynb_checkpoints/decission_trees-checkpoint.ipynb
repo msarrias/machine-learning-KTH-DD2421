{
 "cells": [
  {
   "cell_type": "code",
   "execution_count": 1,
   "metadata": {},
   "outputs": [],
   "source": [
    "import numpy as np\n",
    "import pandas as pd\n",
    "import random\n",
    "import monkdata as m\n",
    "import dtree as d\n",
    "from drawtree_qt5 import drawTree\n",
    "from IPython.display import Image\n",
    "from id3 import Id3Estimator, export_text\n",
    "from matplotlib import pyplot as plt"
   ]
  },
  {
   "cell_type": "code",
   "execution_count": 2,
   "metadata": {},
   "outputs": [],
   "source": [
    "def compute_entropy(datasets):\n",
    "    entropy_datasets_matrix = np.zeros((len(datasets), 1))\n",
    "    for idx_data, dataset in enumerate(datasets):\n",
    "        entropy_datasets_matrix[idx_data] = round(d.entropy(dataset),3)\n",
    "    return entropy_datasets_matrix"
   ]
  },
  {
   "cell_type": "code",
   "execution_count": 3,
   "metadata": {},
   "outputs": [],
   "source": [
    "def entropy_matrix(datasets, attribute_index, max_att_list):\n",
    "    entropy_matrix = np.zeros((len(datasets), len(m.attributes[attribute_index].values)))\n",
    "    for idx_data, dataset in enumerate(datasets):\n",
    "        att = m.attributes[max_att_list[idx_data]]\n",
    "        for idx_value, value in enumerate(att.values):\n",
    "            entropy_matrix[idx_data,idx_value] = d.entropy(d.select(dataset, att, value))\n",
    "    return entropy_matrix"
   ]
  },
  {
   "cell_type": "code",
   "execution_count": 4,
   "metadata": {},
   "outputs": [],
   "source": [
    "def first_level_split_by_attribute(dataset, attribute_idx):\n",
    "    attribute_values = m.attributes[attribute_idx].values\n",
    "    attribute_values_list = [[value_] for value_ in list(attribute_values)]\n",
    "    dataset_by_attribute = []\n",
    "    for value in attribute_values:\n",
    "        dataset_by_attribute.append(d.select(dataset, m.attributes[attribute_idx], value))\n",
    "    return dataset_by_attribute, attribute_values_list"
   ]
  },
  {
   "cell_type": "code",
   "execution_count": 5,
   "metadata": {},
   "outputs": [],
   "source": [
    "def second_level_split_by_attribute(attribute_values_list,\n",
    "                                    maximum_information_gain_matrix, first_split_datasets,\n",
    "                                    max_att_list):\n",
    "\n",
    "    flat_values_list = [item for sublist in attribute_values_list for item in sublist]\n",
    "    max_inf_gain_att_list = maximum_information_gain_matrix.transpose()[0]\n",
    "    secon_level_split_dict = dict()\n",
    "\n",
    "    for max_inf_gain_att, flat_value_list, first_split_dataset,max_att in zip(\n",
    "        max_inf_gain_att_list, flat_values_list, first_split_datasets, max_att_list\n",
    "    ):\n",
    "        if max_inf_gain_att == 'NA':\n",
    "            secon_level_split_dict[flat_value_list] = [[first_split_dataset], []]\n",
    "            continue\n",
    "        secon_level_split_dict[flat_value_list] = first_level_split_by_attribute(first_split_dataset, max_att)\n",
    "    return secon_level_split_dict"
   ]
  },
  {
   "cell_type": "code",
   "execution_count": 6,
   "metadata": {},
   "outputs": [],
   "source": [
    "def information_gain(datasets):\n",
    "    information_gain_matrix = np.zeros((len(datasets), len(m.attributes)))\n",
    "    for idx, dataset in enumerate(datasets):\n",
    "        for i in range(len(m.attributes)):\n",
    "            average_gain = round(d.averageGain(dataset, m.attributes[i]),4)\n",
    "            information_gain_matrix[idx, i] = average_gain\n",
    "    return information_gain_matrix"
   ]
  },
  {
   "cell_type": "code",
   "execution_count": 7,
   "metadata": {},
   "outputs": [],
   "source": [
    "def maximum_information_gain(datasets):\n",
    "    information_gain_matrix = information_gain(datasets)\n",
    "    maximum_information_gain_matrix = np.zeros((len(datasets),2),dtype=object)\n",
    "    max_att_list = []\n",
    "    for i in range(len(datasets)):\n",
    "        inf_gain_maximum = max(information_gain_matrix[i])\n",
    "        if inf_gain_maximum == 0.0:\n",
    "            e = 'NA','NA'\n",
    "            max_att_list.append(0)\n",
    "        if inf_gain_maximum != 0:\n",
    "            x, = np.where(information_gain_matrix[i] == inf_gain_maximum)\n",
    "            e = m.attributes[int(x)], inf_gain_maximum\n",
    "            max_att_list.append(int(x))\n",
    "        maximum_information_gain_matrix[i] = e\n",
    "    return maximum_information_gain_matrix, max_att_list"
   ]
  },
  {
   "cell_type": "code",
   "execution_count": 8,
   "metadata": {},
   "outputs": [],
   "source": [
    "def second_level_most_common(secon_level_split_dict):\n",
    "    most_common_dict = dict()\n",
    "    for key, values in secon_level_split_dict.items():\n",
    "        dataset_list, attribute_value_list = values\n",
    "        attribute_value_list = [item for sublist in attribute_value_list for item in sublist]\n",
    "        label_dict = dict()\n",
    "        if len(dataset_list) == 1:\n",
    "            most_common_dict[key] = d.mostCommon(dataset_list[0])\n",
    "            continue\n",
    "        for dataset, attribute_value in zip(dataset_list, attribute_value_list):\n",
    "            label_dict[attribute_value] = d.mostCommon(dataset)\n",
    "        most_common_dict[key] = label_dict\n",
    "    return most_common_dict"
   ]
  },
  {
   "cell_type": "code",
   "execution_count": 9,
   "metadata": {},
   "outputs": [],
   "source": [
    "def perform_buildTree(datasets):\n",
    "    datasets_trees = []\n",
    "    for dataset in datasets:\n",
    "        datasets_trees.append(d.buildTree(dataset, m.attributes))\n",
    "    return datasets_trees"
   ]
  },
  {
   "cell_type": "code",
   "execution_count": 10,
   "metadata": {},
   "outputs": [],
   "source": [
    "def check_correct_incorrect_classification(datasets, test_datasets, datasets_names):\n",
    "    datasets_trees = perform_buildTree(datasets)\n",
    "    check = {}\n",
    "    check_e = np.zeros((len(datasets), 2))\n",
    "    for i, dataset, dataset_name, dataset_tree, test_dataset in zip(range(len(datasets)),datasets, datasets_names, datasets_trees, test_datasets):   \n",
    "        correct_classification = round(d.check(dataset_tree, test_dataset),3)\n",
    "        check[dataset_name] = correct_classification\n",
    "        err = round(1 - d.check(dataset_tree, dataset),3), round((1 - correct_classification),3)\n",
    "        check_e[i] = err\n",
    "    return check, check_e"
   ]
  },
  {
   "cell_type": "code",
   "execution_count": 11,
   "metadata": {},
   "outputs": [],
   "source": [
    "def partition(data, fraction):\n",
    "    ldata = list(data)\n",
    "    random.shuffle(ldata)\n",
    "    breakPoint = int(len(ldata) * fraction)\n",
    "    return ldata[:breakPoint], ldata[breakPoint:]"
   ]
  },
  {
   "cell_type": "code",
   "execution_count": 52,
   "metadata": {},
   "outputs": [],
   "source": [
    "def max_pruning(dataset, test_dataset,  percentage):\n",
    "    part_dict_by_fract = dict()\n",
    "    \n",
    "    key_name = 'partition_'+str(percentage)\n",
    "    part_dict_by_fract[key_name] = partition(dataset, percentage)\n",
    "    trainnig_data, validation_data = part_dict_by_fract[key_name]\n",
    "    \n",
    "    trainnig_tree = d.buildTree(trainnig_data, m.attributes)\n",
    "    precision_trainning_tree = round(d.check(trainnig_tree, validation_data),3)\n",
    "    error_trainning_tree = round(1 - precision_trainning_tree,3)\n",
    "\n",
    "    candidate_tree = trainnig_tree\n",
    "    candidate_precision_validation = precision_trainning_tree\n",
    "    candidate_error = error_trainning_tree\n",
    "\n",
    "    trainning_prunned_tree_list = d.allPruned(trainnig_tree)\n",
    "    for tree in trainning_prunned_tree_list:  \n",
    "\n",
    "        precision_prunned_trainning_tree = round(d.check(tree, validation_data),3)\n",
    "        error_prunned_trainning_tree = round(1 - precision_prunned_trainning_tree, 3)\n",
    "\n",
    "        if precision_prunned_trainning_tree >= candidate_precision_validation:\n",
    "            candidate_precision_validation = precision_prunned_trainning_tree\n",
    "            candidate_tree = tree\n",
    "            candidate_error = error_prunned_trainning_tree\n",
    "    \n",
    "    candidate_precision_testdata = round(d.check(candidate_tree, test_dataset),3)\n",
    "    candidate_precision_trainingdata = round(d.check(candidate_tree, trainnig_data),3)\n",
    "    return (\n",
    "        trainnig_tree, precision_trainning_tree, candidate_tree,\n",
    "        candidate_precision_trainingdata, candidate_precision_validation, candidate_precision_testdata\n",
    "    )\n"
   ]
  },
  {
   "cell_type": "code",
   "execution_count": 53,
   "metadata": {},
   "outputs": [],
   "source": [
    "def max_pruning_iterator(dataset, test_dataset, fraction_list, number_of_iteration=20):\n",
    "    \n",
    "    pruned_data_by_fract = dict()\n",
    "    \n",
    "    for percentage in fractions_list:\n",
    "        random_split_results_list = []\n",
    "        for _ in range(number_of_iteration):\n",
    "            random_split_results_list.append(list(max_pruning(dataset,test_dataset, percentage)))\n",
    "            # pruned_data_by_fract[key_name] = max_pruning(dataset, percentage)\n",
    "        key_name = 'partition_'+str(percentage)    \n",
    "        pruned_data_by_fract[key_name] = percentage, random_split_results_list\n",
    "    return pruned_data_by_fract\n"
   ]
  },
  {
   "cell_type": "code",
   "execution_count": 81,
   "metadata": {},
   "outputs": [],
   "source": [
    "def compute_prunning_average(trees_and_performance_by_fraction_percentage_dict):\n",
    "    prunning_average = dict()\n",
    "    for keys, (percentage, values) in trees_and_performance_by_fraction_percentage_dict.items():\n",
    "        candidate_precision_test_list = [value[-1] for value in values]\n",
    "        candidate_precision_validation_list = [value[-2] for value in values]\n",
    "        candidate_precision_training_list = [value[-3] for value in values]\n",
    "\n",
    "        prunning_average[keys] = (\n",
    "            round(np.mean(candidate_precision_test_list),3),\n",
    "            round(np.std(candidate_precision_test_list),3),\n",
    "            round(np.mean(candidate_precision_validation_list),3),\n",
    "            round(np.std(candidate_precision_validation_list),3),\n",
    "            round(np.mean(candidate_precision_training_list),3),\n",
    "            round(np.std(candidate_precision_training_list),3)\n",
    "        )\n",
    "    return prunning_average"
   ]
  },
  {
   "cell_type": "code",
   "execution_count": 95,
   "metadata": {},
   "outputs": [],
   "source": [
    "def average_precision_values(prunning_average_dict):\n",
    "    \n",
    "    average_test_precision_value_list = [(1 - value[0]) for value in list(prunning_average_dict.values())]\n",
    "    average_test_std_value_list = [value[1] for value in list(prunning_average_dict.values())]\n",
    "\n",
    "    average_validation_precision_value_list = [(1 - value[2]) for value in list(prunning_average_dict.values())]\n",
    "    average_validation_std_value_list = [value[3] for value in list(prunning_average_dict.values())]\n",
    "\n",
    "    average_training_precision_value_list = [(1 - value[4]) for value in list(prunning_average_dict.values())]\n",
    "    average_training_std_value_list = [value[5] for value in list(prunning_average_dict.values())]\n",
    "\n",
    "    return(\n",
    "        average_test_precision_value_list, average_test_std_value_list, \n",
    "        average_validation_precision_value_list, average_validation_std_value_list,\n",
    "        average_training_precision_value_list, average_training_std_value_list\n",
    "    )\n",
    "    "
   ]
  },
  {
   "cell_type": "code",
   "execution_count": 103,
   "metadata": {},
   "outputs": [],
   "source": [
    "def plot_(fractions_list_, average_precision_values_list):\n",
    "    \n",
    "    plt.figure()\n",
    "    plt.errorbar(\n",
    "        fractions_list_, average_precision_values_list[0],\n",
    "        yerr=average_precision_values_list[1], label='test error'\n",
    "    )\n",
    "    plt.errorbar(\n",
    "        fractions_list_, average_precision_values_list[2],\n",
    "        yerr=average_precision_values_list[3]\n",
    "    )\n",
    "    plt.errorbar(\n",
    "        fractions_list_, average_precision_values_list[4],\n",
    "        yerr=average_precision_values_list[5]\n",
    "    )\n",
    "    plt.xlabel('percentage for the training set')\n",
    "    plt.ylabel('error % with standard deviation')\n",
    "    plt.legend(['test', 'cross validation', 'training'], loc='best')"
   ]
  },
  {
   "cell_type": "markdown",
   "metadata": {},
   "source": [
    "Assignment 0:\n",
    "======================\n"
   ]
  },
  {
   "cell_type": "markdown",
   "metadata": {},
   "source": [
    ">Each one of the datasets has properties which makes\n",
    "them hard to learn. Motivate which of the three problems is most\n",
    "di\u000ecult for a decision tree algorithm to learn."
   ]
  },
  {
   "cell_type": "markdown",
   "metadata": {},
   "source": [
    "## Entropy:"
   ]
  },
  {
   "cell_type": "markdown",
   "metadata": {},
   "source": [
    "## Assignment 1:"
   ]
  },
  {
   "cell_type": "markdown",
   "metadata": {},
   "source": [
    "> The file `dtree.py` defines a function entropy which\n",
    "calculates the entropy of a dataset. Import this file along with the\n",
    "monks datasets and use it to calculate the entropy of the training\n",
    "datasets."
   ]
  },
  {
   "cell_type": "markdown",
   "metadata": {},
   "source": [
    "1. Entropy of each dataset:"
   ]
  },
  {
   "cell_type": "code",
   "execution_count": 14,
   "metadata": {},
   "outputs": [],
   "source": [
    "datasets_names = ['MONK-1', 'MONK-2', 'MONK-3']\n",
    "test_datasets_names = ['monk1test', 'monk2test', 'monk3test']\n",
    "datasets = [m.monk1, m.monk2, m.monk3]\n",
    "test_datasets = [m.monk1test, m.monk2test, m.monk3test]"
   ]
  },
  {
   "cell_type": "code",
   "execution_count": 15,
   "metadata": {
    "scrolled": true
   },
   "outputs": [
    {
     "name": "stdout",
     "output_type": "stream",
     "text": [
      "[['MONK-1' '1.0']\n",
      " ['MONK-2' '0.957']\n",
      " ['MONK-3' '1.0']]\n"
     ]
    }
   ],
   "source": [
    "print(np.hstack(([[i] for i in list(datasets_names)], compute_entropy(datasets))))"
   ]
  },
  {
   "cell_type": "markdown",
   "metadata": {},
   "source": [
    "## Assignment 2:"
   ]
  },
  {
   "cell_type": "markdown",
   "metadata": {},
   "source": [
    "> Explain entropy for a uniform distribution and a\n",
    "non-uniform distribution, present some example distributions with\n",
    "high and low entropy."
   ]
  },
  {
   "cell_type": "markdown",
   "metadata": {},
   "source": [
    "## Information Gain:"
   ]
  },
  {
   "cell_type": "markdown",
   "metadata": {},
   "source": [
    "## Assignment 3:"
   ]
  },
  {
   "cell_type": "markdown",
   "metadata": {},
   "source": [
    "> Use the function averageGain (defined in `dtree.py`)\n",
    "to calculate the expected information gain corresponding to each of\n",
    "the six attributes. Note that the attributes are represented as in-\n",
    "stances of the class Attribute (defined in monkdata.py) which you\n",
    "can access via `m.attributes[0]`, ..., `m.attributes[5]`. Based on\n",
    "the results, which attribute should be used for splitting the examples\n",
    "at the root node?"
   ]
  },
  {
   "cell_type": "markdown",
   "metadata": {},
   "source": [
    "1. Information gain for each dataset $S$ by attribute $A \\subset (A1, A2, A3, A4, A5, A6)$"
   ]
  },
  {
   "cell_type": "code",
   "execution_count": 16,
   "metadata": {
    "scrolled": true
   },
   "outputs": [
    {
     "name": "stdout",
     "output_type": "stream",
     "text": [
      "[[0.0753 0.0058 0.0047 0.0263 0.287  0.0008]\n",
      " [0.0038 0.0025 0.0011 0.0157 0.0173 0.0062]\n",
      " [0.0071 0.2937 0.0008 0.0029 0.2559 0.0071]]\n"
     ]
    }
   ],
   "source": [
    "#pd.DataFrame(information_gain(datasets), index=datasets_names, columns=attributes_names)\n",
    "print(information_gain(datasets))"
   ]
  },
  {
   "cell_type": "markdown",
   "metadata": {},
   "source": [
    "## Assignment 4:"
   ]
  },
  {
   "cell_type": "markdown",
   "metadata": {},
   "source": [
    "> For splitting we choose the attribute that maximizes\n",
    "the information gain, Eq.3. Looking at Eq.3 how does the entropy of\n",
    "the subsets, Sk, look like when the information gain is maximized?\n",
    "How can we motivate using the information gain as a heuristic for\n",
    "picking an attribute for splitting? Think about reduction in entropy\n",
    "after the split and what the entropy implies."
   ]
  },
  {
   "cell_type": "markdown",
   "metadata": {},
   "source": [
    "Ask about the attribute which maximizes the expected\n",
    "reduction of the entropy."
   ]
  },
  {
   "cell_type": "markdown",
   "metadata": {},
   "source": [
    "1. We choose the attribute that maximizes the information gain, from where we will split at the root node:"
   ]
  },
  {
   "cell_type": "code",
   "execution_count": 17,
   "metadata": {},
   "outputs": [
    {
     "name": "stdout",
     "output_type": "stream",
     "text": [
      "[['MONK-1' A5 0.287]\n",
      " ['MONK-2' A5 0.0173]\n",
      " ['MONK-3' A2 0.2937]]\n"
     ]
    }
   ],
   "source": [
    "ds_maximum_information_gain, max_att = maximum_information_gain(datasets)\n",
    "print(np.hstack(([[i] for i in list(datasets_names)], ds_maximum_information_gain)))"
   ]
  },
  {
   "cell_type": "markdown",
   "metadata": {},
   "source": [
    "2. The entropy of the subsets $S_{k(i)}$ for each possible attribute $k$ value $i$."
   ]
  },
  {
   "cell_type": "code",
   "execution_count": 20,
   "metadata": {
    "scrolled": false
   },
   "outputs": [
    {
     "data": {
      "text/plain": [
       "array([[0.        , 0.93831535, 0.94807824, 0.90817835],\n",
       "       [0.91034806, 1.        , 0.96333555, 0.877962  ],\n",
       "       [0.91829583, 0.8296071 , 0.37764632, 0.        ]])"
      ]
     },
     "execution_count": 20,
     "metadata": {},
     "output_type": "execute_result"
    }
   ],
   "source": [
    "data_entropy_matrix_by_max_att_nd_value = entropy_matrix(datasets, 4, max_att)\n",
    "data_entropy_matrix_by_max_att_nd_value"
   ]
  },
  {
   "cell_type": "markdown",
   "metadata": {},
   "source": [
    "3. Information gain "
   ]
  },
  {
   "cell_type": "code",
   "execution_count": 21,
   "metadata": {},
   "outputs": [
    {
     "data": {
      "text/plain": [
       "array([[ 1.        ,  0.06168465,  0.05192176,  0.09182165],\n",
       "       [ 0.04665194, -0.043     , -0.00633555,  0.079038  ],\n",
       "       [ 0.08170417,  0.1703929 ,  0.62235368,  1.        ]])"
      ]
     },
     "execution_count": 21,
     "metadata": {},
     "output_type": "execute_result"
    }
   ],
   "source": [
    "(compute_entropy(datasets) * np.array([[1,1,1,1]])) - data_entropy_matrix_by_max_att_nd_value"
   ]
  },
  {
   "cell_type": "markdown",
   "metadata": {},
   "source": [
    "## 5. Building Decission Trees:"
   ]
  },
  {
   "cell_type": "markdown",
   "metadata": {},
   "source": [
    "> Split dataset `monk1` according to the selected attribute using\n",
    "the function `select` (again, defined in dtree.py)"
   ]
  },
  {
   "cell_type": "markdown",
   "metadata": {},
   "source": [
    "### First Level Split : MONK1"
   ]
  },
  {
   "cell_type": "code",
   "execution_count": 22,
   "metadata": {
    "scrolled": true
   },
   "outputs": [],
   "source": [
    "split_monk1, monk1_values = first_level_split_by_attribute(m.monk1, 4)\n",
    "maximum_information_gain_monk1_a5, max_att_monk1_a5 = maximum_information_gain(split_monk1)"
   ]
  },
  {
   "cell_type": "markdown",
   "metadata": {},
   "source": [
    "> Compute the information gains for the nodes on the next level of the tree. Which attributes\n",
    "should be tested for these nodes?"
   ]
  },
  {
   "cell_type": "code",
   "execution_count": 23,
   "metadata": {
    "scrolled": true
   },
   "outputs": [
    {
     "name": "stdout",
     "output_type": "stream",
     "text": [
      "[[0.     0.     0.     0.     0.     0.    ]\n",
      " [0.0402 0.0151 0.0373 0.0489 0.     0.0258]\n",
      " [0.0331 0.0022 0.018  0.0191 0.     0.0451]\n",
      " [0.2063 0.0339 0.0259 0.0759 0.     0.0033]]\n",
      "   \n",
      "[[1 'NA' 'NA']\n",
      " [2 A4 0.0489]\n",
      " [3 A6 0.0451]\n",
      " [4 A1 0.2063]]\n"
     ]
    }
   ],
   "source": [
    "print(information_gain(split_monk1))\n",
    "print('   ')\n",
    "print(np.hstack((monk1_values, maximum_information_gain_monk1_a5)))"
   ]
  },
  {
   "cell_type": "markdown",
   "metadata": {},
   "source": [
    "> For the monk1 data draw the decision tree up to the **first two levels** and\n",
    "assign the majority class of the subsets that resulted from the two splits\n",
    "to the leaf nodes."
   ]
  },
  {
   "cell_type": "markdown",
   "metadata": {},
   "source": [
    "### Second Level Split : MONK1"
   ]
  },
  {
   "cell_type": "code",
   "execution_count": 24,
   "metadata": {},
   "outputs": [],
   "source": [
    "second_level_split_monk1 = second_level_split_by_attribute(\n",
    "    monk1_values, maximum_information_gain_monk1_a5, split_monk1, max_att_monk1_a5\n",
    "    )\n",
    "second_level_most_common_monk1 = second_level_most_common(second_level_split_monk1)"
   ]
  },
  {
   "cell_type": "markdown",
   "metadata": {},
   "source": [
    "### Most Common Second Level Split : MONK1"
   ]
  },
  {
   "cell_type": "code",
   "execution_count": 25,
   "metadata": {
    "scrolled": true
   },
   "outputs": [
    {
     "data": {
      "text/plain": [
       "{1: True,\n",
       " 2: {1: False, 2: False, 3: False},\n",
       " 3: {1: False, 2: False},\n",
       " 4: {1: False, 2: False, 3: True}}"
      ]
     },
     "execution_count": 25,
     "metadata": {},
     "output_type": "execute_result"
    }
   ],
   "source": [
    "second_level_most_common_monk1"
   ]
  },
  {
   "cell_type": "markdown",
   "metadata": {},
   "source": [
    "### Compare  results with a predefined routine for algorithm ID3."
   ]
  },
  {
   "cell_type": "code",
   "execution_count": 26,
   "metadata": {},
   "outputs": [],
   "source": [
    "x = np.array([[sample.attribute[attr] for attr in m.attributes] for sample in m.monk1])\n",
    "y = np.array([str(sample.positive) for sample in m.monk1])\n",
    "feature_names_ = [\"A1\",\"A2\",\"A3\",\"A4\",\"A5\",\"A6\"]"
   ]
  },
  {
   "cell_type": "code",
   "execution_count": 27,
   "metadata": {},
   "outputs": [
    {
     "name": "stdout",
     "output_type": "stream",
     "text": [
      "\n",
      "A5 1: True (29) \n",
      "A5 2\n",
      "|   A4 1: False (6/5) \n",
      "|   A4 2: False (6/1) \n",
      "|   A4 3: False (8/5) \n",
      "A5 3\n",
      "|   A6 1: False (10/3) \n",
      "|   A6 2: False (9/8) \n",
      "A5 4\n",
      "|   A1 1: False (13/1) \n",
      "|   A1 2: False (7/4) \n",
      "|   A1 3: True (6/3) \n",
      "\n"
     ]
    }
   ],
   "source": [
    "estimator_t = Id3Estimator(max_depth=2)\n",
    "estimator_t.fit(x, y, check_input=False)\n",
    "print(export_text(estimator_t.tree_, feature_names_))"
   ]
  },
  {
   "cell_type": "markdown",
   "metadata": {},
   "source": [
    "> Use the function buildTree(data, m.attributes) to build the decision tree."
   ]
  },
  {
   "cell_type": "code",
   "execution_count": 28,
   "metadata": {},
   "outputs": [],
   "source": [
    "monk1_tree = d.buildTree(m.monk1, m.attributes, 2)\n",
    "monk1_tree_full = d.buildTree(m.monk1,m.attributes)"
   ]
  },
  {
   "cell_type": "code",
   "execution_count": 29,
   "metadata": {},
   "outputs": [
    {
     "name": "stdout",
     "output_type": "stream",
     "text": [
      "A5(+A4(---)A6(--)A1(--+))\n"
     ]
    },
    {
     "data": {
      "image/png": "[encoded data removed]",
      "text/plain": [
       "<IPython.core.display.Image object>"
      ]
     },
     "execution_count": 29,
     "metadata": {},
     "output_type": "execute_result"
    }
   ],
   "source": [
    "print(monk1_tree)\n",
    "#drawTree(monk1_tree_full)\n",
    "Image(\"monk1_tree_depth2.png\")"
   ]
  },
  {
   "cell_type": "markdown",
   "metadata": {},
   "source": [
    "## Assignment 5:"
   ]
  },
  {
   "cell_type": "markdown",
   "metadata": {},
   "source": [
    "> Build the full decision trees for all three Monk\n",
    "datasets using buildTree. Then, use the function check to mea-\n",
    "sure the performance of the decision tree on both the training and\n",
    "test datasets.\n",
    "For example to built a tree for monk1 and compute the performance\n",
    "on the test data you could use\n",
    "\n",
    ">`import monkdata as m` <br>\n",
    ">`import dtree as d`<br>\n",
    ">`t=d.buildTree(m.monk1, m.attributes);`<br>\n",
    ">`print(d.check(t, m.monk1test))`<br>\n",
    "\n",
    ">Compute the train and test set errors for the three Monk datasets\n",
    "for the full trees. Were your assumptions about the datasets correct?\n",
    "Explain the results you get for the training and test datasets."
   ]
  },
  {
   "cell_type": "code",
   "execution_count": 30,
   "metadata": {},
   "outputs": [],
   "source": [
    "correct_class, incorrect_class = check_correct_incorrect_classification(datasets, test_datasets, datasets_names)"
   ]
  },
  {
   "cell_type": "code",
   "execution_count": 31,
   "metadata": {},
   "outputs": [
    {
     "data": {
      "text/plain": [
       "{'MONK-1': 0.829, 'MONK-2': 0.692, 'MONK-3': 0.944}"
      ]
     },
     "execution_count": 31,
     "metadata": {},
     "output_type": "execute_result"
    }
   ],
   "source": [
    "correct_class"
   ]
  },
  {
   "cell_type": "code",
   "execution_count": 32,
   "metadata": {},
   "outputs": [
    {
     "name": "stdout",
     "output_type": "stream",
     "text": [
      "[['MONK-1' '0.0' '0.171']\n",
      " ['MONK-2' '0.0' '0.308']\n",
      " ['MONK-3' '0.0' '0.056']]\n"
     ]
    }
   ],
   "source": [
    "print(np.hstack(([[i] for i in list(datasets_names)], incorrect_class)))"
   ]
  },
  {
   "cell_type": "markdown",
   "metadata": {},
   "source": [
    "## Pruning:"
   ]
  },
  {
   "cell_type": "markdown",
   "metadata": {},
   "source": [
    "## Assignment 6:"
   ]
  },
  {
   "cell_type": "markdown",
   "metadata": {},
   "source": [
    ">Explain pruning from a bias variance trade-off perspective."
   ]
  },
  {
   "cell_type": "markdown",
   "metadata": {},
   "source": [
    "Randomly partition the original training set into **training** and **validation** set. according to each fraction:"
   ]
  },
  {
   "cell_type": "code",
   "execution_count": null,
   "metadata": {},
   "outputs": [],
   "source": [
    "fractions_list = (\n",
    "    0.3, 0.4, 0.5, 0.6, 0.7, 0.75, 0.76, 0.77, 0.78, 0.79, 0.8, 0.81, 0.82, 0.83, 0.86, 0.89, 0.92, 0.95\n",
    ")"
   ]
  },
  {
   "cell_type": "code",
   "execution_count": 54,
   "metadata": {},
   "outputs": [],
   "source": [
    "trees_and_performance_by_fraction_percentage = max_pruning_iterator(\n",
    "    m.monk1, m.monk1test, fractions_list, number_of_iteration=1000\n",
    ")"
   ]
  },
  {
   "cell_type": "code",
   "execution_count": 80,
   "metadata": {},
   "outputs": [],
   "source": [
    "trees_and_performance_by_fraction_percentage_monk3 = max_pruning_iterator(\n",
    "    m.monk3, m.monk3test, fractions_list, number_of_iteration=1000\n",
    ")"
   ]
  },
  {
   "cell_type": "code",
   "execution_count": 85,
   "metadata": {},
   "outputs": [],
   "source": [
    "prunning_average_monk1= compute_prunning_average(trees_and_performance_by_fraction_percentage)\n",
    "prunning_average_monk3= compute_prunning_average(trees_and_performance_by_fraction_percentage_monk3)"
   ]
  },
  {
   "cell_type": "code",
   "execution_count": 97,
   "metadata": {},
   "outputs": [],
   "source": [
    "average_precision_values_monk1 = average_precision_values(prunning_average_monk1)\n",
    "average_precision_values_monk3 = average_precision_values(prunning_average_monk3)"
   ]
  },
  {
   "cell_type": "markdown",
   "metadata": {},
   "source": [
    "## Assignment 7:"
   ]
  },
  {
   "cell_type": "markdown",
   "metadata": {},
   "source": [
    "> Evaluate the effect pruning has on the test error for\n",
    "the `monk1` and `monk3` datasets, in particular determine the optimal\n",
    "partition into training and pruning by optimizing the parameter\n",
    "fraction. Plot the classification error on the test sets as a function\n",
    "of the parameter `fraction` $\\subset (0.3, 0.4, 0.5, 0.6, 0.7, 0.8)$\n",
    ".\n",
    "Note that the split of the data is random. We therefore need to\n",
    "compute the statistics over several runs of the split to be able to draw\n",
    "any conclusions. Reasonable statistics includes mean and a measure\n",
    "of the spread. Do remember to print axes labels, legends and data\n",
    "points as you will not pass without them."
   ]
  },
  {
   "cell_type": "markdown",
   "metadata": {},
   "source": [
    "## MONK-1"
   ]
  },
  {
   "cell_type": "code",
   "execution_count": 106,
   "metadata": {},
   "outputs": [
    {
     "data": {
      "image/png": "[encoded data removed]",
      "text/plain": [
       "<Figure size 432x288 with 1 Axes>"
      ]
     },
     "metadata": {
      "needs_background": "light"
     },
     "output_type": "display_data"
    }
   ],
   "source": [
    "plot_(fractions_list, average_precision_values_monk1)"
   ]
  },
  {
   "cell_type": "markdown",
   "metadata": {},
   "source": [
    "## MONK-3"
   ]
  },
  {
   "cell_type": "code",
   "execution_count": 105,
   "metadata": {},
   "outputs": [
    {
     "data": {
      "image/png": "[encoded data removed]",
      "text/plain": [
       "<Figure size 432x288 with 1 Axes>"
      ]
     },
     "metadata": {
      "needs_background": "light"
     },
     "output_type": "display_data"
    }
   ],
   "source": [
    "plot_(fractions_list, average_precision_values_monk3)"
   ]
  },
  {
   "cell_type": "code",
   "execution_count": null,
   "metadata": {},
   "outputs": [],
   "source": []
  }
 ],
 "metadata": {
  "kernelspec": {
   "display_name": "Python 3",
   "language": "python",
   "name": "python3"
  },
  "language_info": {
   "codemirror_mode": {
    "name": "ipython",
    "version": 3
   },
   "file_extension": ".py",
   "mimetype": "text/x-python",
   "name": "python",
   "nbconvert_exporter": "python",
   "pygments_lexer": "ipython3",
   "version": "3.6.6"
  }
 },
 "nbformat": 4,
 "nbformat_minor": 2
}
